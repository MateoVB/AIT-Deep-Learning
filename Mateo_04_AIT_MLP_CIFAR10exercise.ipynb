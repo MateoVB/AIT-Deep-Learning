{
  "nbformat": 4,
  "nbformat_minor": 0,
  "metadata": {
    "anaconda-cloud": {},
    "kernelspec": {
      "display_name": "Python 3",
      "language": "python",
      "name": "python3"
    },
    "language_info": {
      "codemirror_mode": {
        "name": "ipython",
        "version": 3
      },
      "file_extension": ".py",
      "mimetype": "text/x-python",
      "name": "python",
      "nbconvert_exporter": "python",
      "pygments_lexer": "ipython3",
      "version": "3.6.6"
    },
    "colab": {
      "provenance": [],
      "include_colab_link": true
    },
    "accelerator": "GPU"
  },
  "cells": [
    {
      "cell_type": "markdown",
      "metadata": {
        "id": "view-in-github",
        "colab_type": "text"
      },
      "source": [
        "<a href=\"https://colab.research.google.com/github/MateoVB/AIT-Deep-Learning/blob/main/Mateo_04_AIT_MLP_CIFAR10exercise.ipynb\" target=\"_parent\"><img src=\"https://colab.research.google.com/assets/colab-badge.svg\" alt=\"Open In Colab\"/></a>"
      ]
    },
    {
      "cell_type": "markdown",
      "metadata": {
        "id": "cW-EyI5Lxpqi"
      },
      "source": [
        "# Copyright\n",
        "\n",
        "<PRE>\n",
        "Copyright (c) 2024 Bálint Gyires-Tóth - All Rights Reserved\n",
        "You may use and modify this code for research and development purpuses.\n",
        "Using this code for educational purposes (self-paced or instructor led) without the permission of the author is prohibited.\n",
        "</PRE>"
      ]
    },
    {
      "cell_type": "markdown",
      "source": [
        "# Example of data exploration, modeling, regulartion and prediction\n",
        "Our exercise today involves loading a standard dataset using TensorFlow Keras API, exploring the data, building a simple neural network, and evaluating the effects of basic methods (activation functions, regularization, weight initialization, etc.). We then perform predictions on the test set and inspect the results."
      ],
      "metadata": {
        "id": "3EX4cCa4WKJu"
      }
    },
    {
      "cell_type": "markdown",
      "source": [
        "# 1. Data\n",
        "The dataset we will use is the well-known CIFAR10 (Canadian Institute For Advanced Research). Explore the details on the Keras website first: https://keras.io/api/datasets/cifar10/\n",
        "\n",
        "After you explored the basic features of the data, let's load it into the memory and explore the shapes:"
      ],
      "metadata": {
        "id": "yY9fztIeWIKt"
      }
    },
    {
      "cell_type": "code",
      "source": [
        "from tensorflow.keras.datasets import cifar10\n",
        "from tensorflow.keras.utils import to_categorical\n",
        "import numpy as np"
      ],
      "metadata": {
        "id": "giRZKTjzX_7l"
      },
      "execution_count": null,
      "outputs": []
    },
    {
      "cell_type": "code",
      "source": [
        "(X_train, Y_train), (X_test, Y_test) = cifar10.load_data()"
      ],
      "metadata": {
        "id": "bez7q0eiWQCK",
        "colab": {
          "base_uri": "https://localhost:8080/"
        },
        "outputId": "f251e25c-e8fe-4e25-cd7c-0d289519e7b5"
      },
      "execution_count": null,
      "outputs": [
        {
          "output_type": "stream",
          "name": "stdout",
          "text": [
            "Downloading data from https://www.cs.toronto.edu/~kriz/cifar-10-python.tar.gz\n",
            "170498071/170498071 [==============================] - 2s 0us/step\n"
          ]
        }
      ]
    },
    {
      "cell_type": "code",
      "source": [
        "print(X_train.shape)\n",
        "print(X_test.shape)\n",
        "print(Y_train.shape)\n",
        "print(Y_test.shape)"
      ],
      "metadata": {
        "id": "2tJoRq5wXywi",
        "colab": {
          "base_uri": "https://localhost:8080/"
        },
        "outputId": "f4f66cd8-4457-4e60-da6e-b8cdfd94d9d4"
      },
      "execution_count": null,
      "outputs": [
        {
          "output_type": "stream",
          "name": "stdout",
          "text": [
            "(50000, 32, 32, 3)\n",
            "(10000, 32, 32, 3)\n",
            "(50000, 1)\n",
            "(10000, 1)\n"
          ]
        }
      ]
    },
    {
      "cell_type": "markdown",
      "source": [
        "## 1.1. Exercise\n",
        "Display the first ten images of the training data. Hints:\n",
        "* Axis 0 refers to the separate images, e.g. X_train[0]\n",
        "* You can use the [Matplotlib Pyplot imshow function](https://matplotlib.org/stable/api/_as_gen/matplotlib.pyplot.imshow.html) for displaying the image. Just don't forget to import Plotly first!\n",
        "* A corresponding example, but you have to modify the code for your purpose: https://stackoverflow.com/questions/46615554/how-to-display-multiple-images-in-one-figure-correctly"
      ],
      "metadata": {
        "id": "zTCSGFyDlNvf"
      }
    },
    {
      "cell_type": "code",
      "source": [
        "import matplotlib.pyplot as plt\n",
        "plt.figure(figsize=(40,40))\n",
        "\n",
        "\n",
        "num_images = 20\n",
        "for i in range(num_images):\n",
        "  plt.subplot(1, 20, i+1)\n",
        "  plt.imshow(X_train[i])"
      ],
      "metadata": {
        "id": "hIQhHTppmBdO",
        "colab": {
          "base_uri": "https://localhost:8080/",
          "height": 122
        },
        "outputId": "b9b3253b-8515-44fe-f161-07a58f8c1196"
      },
      "execution_count": null,
      "outputs": [
        {
          "output_type": "display_data",
          "data": {
            "text/plain": [
              "<Figure size 4000x4000 with 20 Axes>"
            ],
            "image/png": "[encoded data removed]"
          },
          "metadata": {}
        }
      ]
    },
    {
      "cell_type": "markdown",
      "source": [
        "Print the corresponding labels of the displayed images from the target variable (Y_train):"
      ],
      "metadata": {
        "id": "FAQkUWlmm-bc"
      }
    },
    {
      "cell_type": "markdown",
      "source": [
        "## 1.2. Exercise\n",
        "We will train a Multi-Layer Perceptron (MLP), which requires a 2 dimensional input: 0th axis refers to the datapoints (i.e. images), the 1th dimens to the input. As images are 3 dimensional (width, height, color channels), you have to reshape the images into vectors. We also call this flattening.\n",
        "\n",
        "In order to do so, calculate the size of the equivalent 1D vector of the image:"
      ],
      "metadata": {
        "id": "VX24g5FstsRU"
      }
    },
    {
      "cell_type": "code",
      "source": [
        "flattened_dim = X_train.shape[1] * X_train.shape[2] * X_train.shape[3]\n",
        "print (flattened_dim)\n",
        "print (X_train.shape)\n",
        "print (Y_train.shape)"
      ],
      "metadata": {
        "id": "hdoMyxHzuXZG",
        "colab": {
          "base_uri": "https://localhost:8080/"
        },
        "outputId": "51a046cc-99ea-47e3-d5fc-0ac3890236e7"
      },
      "execution_count": null,
      "outputs": [
        {
          "output_type": "stream",
          "name": "stdout",
          "text": [
            "3072\n",
            "(50000, 32, 32, 3)\n",
            "(50000, 1)\n"
          ]
        }
      ]
    },
    {
      "cell_type": "markdown",
      "source": [
        "After you calculated it, we can reshape the images, and covert the integer arrays into float arrays -- which are needed for the neural networks as input. Hint:\n",
        "* in the [reshape() function of Numpy](https://www.w3schools.com/python/numpy/numpy_array_reshape.asp) you can use -1 for one axis, to automatically calculate that value."
      ],
      "metadata": {
        "id": "WbqXJUSFubeC"
      }
    },
    {
      "cell_type": "code",
      "source": [
        "# reshape 3D tensors to 2D tensors\n",
        "X_train = X_train.reshape(-1, flattened_dim)\n",
        "X_test = X_test.reshape(-1, flattened_dim)\n",
        "\n",
        "# it is in int8 format, the neural network requires float32\n",
        "X_train = X_train.astype('float32')\n",
        "X_test = X_test.astype('float32')\n",
        "\n",
        "print(X_train)\n",
        "print(X_train.shape)"
      ],
      "metadata": {
        "id": "vukOcBM0XzSj",
        "colab": {
          "base_uri": "https://localhost:8080/"
        },
        "outputId": "65ba7e0d-49f4-4414-92df-1afe9fac2d23"
      },
      "execution_count": null,
      "outputs": [
        {
          "output_type": "stream",
          "name": "stdout",
          "text": [
            "[[ 59.  62.  63. ... 123.  92.  72.]\n",
            " [154. 177. 187. ... 143. 133. 144.]\n",
            " [255. 255. 255. ...  80.  86.  84.]\n",
            " ...\n",
            " [ 35. 178. 235. ...  12.  31.  50.]\n",
            " [189. 211. 240. ... 195. 190. 171.]\n",
            " [229. 229. 239. ... 163. 163. 161.]]\n",
            "(50000, 3072)\n"
          ]
        }
      ]
    },
    {
      "cell_type": "markdown",
      "source": [
        "## 1.3. Exercise\n",
        "As the next step, let's split the training data into training and validation data. 80% of the original training data should be the final training data, and 20% the validation.\n",
        "You should use Numpy indexing to select the first 80% of X_train as final X_train, and the last 20% as X_valid. Hints:\n",
        "* https://datascienceparichay.com/article/numpy-array-first-n-rows/\n",
        "* https://datascienceparichay.com/article/numpy-array-last-n-rows/"
      ],
      "metadata": {
        "id": "DO79AdIdvVfD"
      }
    },
    {
      "cell_type": "code",
      "source": [
        "train_ratio  = 0.8\n",
        "train_length = len(X_train) # length of the training data\n",
        "train_split  = int(train_length*(train_ratio)) # where to split the training and validation data\n",
        "X_valid, Y_valid = X_train[train_split:], Y_train[train_split:]\n",
        "X_train, Y_train = X_train[0:train_split], Y_train[0:train_split]\n",
        "\n",
        "print(Y_train.shape)"
      ],
      "metadata": {
        "id": "mRwuWxxIxLgN",
        "colab": {
          "base_uri": "https://localhost:8080/"
        },
        "outputId": "34ef55d2-bb9c-4b4c-aa3a-12f818634b56"
      },
      "execution_count": null,
      "outputs": [
        {
          "output_type": "stream",
          "name": "stdout",
          "text": [
            "(40000, 1)\n"
          ]
        }
      ]
    },
    {
      "cell_type": "markdown",
      "source": [
        "## 1.4. Exercise\n",
        "As the last step of input data preparation, the data should be standardized. Calculate the mean and variance of the training data (elementvise -- so for each value of the flattened image you should get a mean and variance for the training data along 0th axis). Hint:\n",
        "* https://stackoverflow.com/questions/70626231/how-to-calculate-mean-variance-standard-deviation-per-index-of-array"
      ],
      "metadata": {
        "id": "z05y_QWDxWER"
      }
    },
    {
      "cell_type": "code",
      "source": [
        "mean = np.mean(X_train, axis = 0)\n",
        "std  = np.std(X_train, axis = 0)"
      ],
      "metadata": {
        "id": "TSZbvWCBx8Ea"
      },
      "execution_count": null,
      "outputs": []
    },
    {
      "cell_type": "markdown",
      "source": [
        "Next, use the resulting values to standardize the training, validation and test data by substracting the mean and dividing the result with the standard deviation."
      ],
      "metadata": {
        "id": "6WRHKkkjyN1S"
      }
    },
    {
      "cell_type": "code",
      "source": [
        "X_train = (X_train - mean) / std\n",
        "X_valid = (X_valid - mean) / std\n",
        "X_test  = (X_test - mean) / std"
      ],
      "metadata": {
        "id": "2ESLP1EIyB2J"
      },
      "execution_count": null,
      "outputs": []
    },
    {
      "cell_type": "markdown",
      "source": [
        "## 1.5. Exercise\n",
        "And as the last step, convert the dense representation of the classes (i.e. 0,1,2,3...9) to one-hot encoding (0 = [1 0 0 0 0 0 0 0 0 0], 1 = [0 1 0 0 0 0 0 0 0 0] ... 9 = [0 0 0 0 0 0 0 0 0 1]). To do this, first, calculate the number of unique elements in the target training data. Hints:\n",
        "* use the [unique() function](https://numpy.org/doc/stable/reference/generated/numpy.unique.html) of Numpy to list the unique elements\n",
        "* you can count the number of elements in a list with the [len() function](https://www.w3schools.com/python/ref_func_len.asp)"
      ],
      "metadata": {
        "id": "ooHCnUin7r4o"
      }
    },
    {
      "cell_type": "code",
      "source": [
        "nb_classes = len(np.unique(Y_train))\n"
      ],
      "metadata": {
        "id": "i0LAO9cs8KEE"
      },
      "execution_count": null,
      "outputs": []
    },
    {
      "cell_type": "markdown",
      "source": [
        "Doublecheck, if the same number of classes exists in the validation and test target data:"
      ],
      "metadata": {
        "id": "BvM6XhGe8JU9"
      }
    },
    {
      "cell_type": "code",
      "source": [
        "print(\"Validation data has the same number of classes, as the training data:\", nb_classes == len(np.unique(Y_valid)))\n",
        "print(\"Test data has the same number of classes, as the training data:\", nb_classes == len(np.unique(Y_test)))"
      ],
      "metadata": {
        "id": "eZFNSsyx_Py2",
        "colab": {
          "base_uri": "https://localhost:8080/"
        },
        "outputId": "6e8651a7-be41-43df-fcfe-87bf858e3cac"
      },
      "execution_count": null,
      "outputs": [
        {
          "output_type": "stream",
          "name": "stdout",
          "text": [
            "Validation data has the same number of classes, as the training data: True\n",
            "Test data has the same number of classes, as the training data: True\n"
          ]
        }
      ]
    },
    {
      "cell_type": "markdown",
      "source": [
        "And convert the dense representation into one-hot encoding. Hint:\n",
        "* use the [to_categorical function](https://www.tensorflow.org/api_docs/python/tf/keras/utils/to_categorical) with the calculated nb_classes\n"
      ],
      "metadata": {
        "id": "mJM-iBmR8dLe"
      }
    },
    {
      "cell_type": "code",
      "source": [
        "Y_train = to_categorical(Y_train,nb_classes)\n",
        "Y_valid = to_categorical(Y_valid,nb_classes)\n",
        "Y_test  = to_categorical(Y_test,nb_classes)"
      ],
      "metadata": {
        "id": "xwZ4OJ6I8lba"
      },
      "execution_count": null,
      "outputs": []
    },
    {
      "cell_type": "markdown",
      "source": [
        "## Final check of data preparation\n",
        "Now, lets check the shapes and mean and standard deviation of the training, validation and test data."
      ],
      "metadata": {
        "id": "LshN2OSsv3TZ"
      }
    },
    {
      "cell_type": "code",
      "source": [
        "print(\"Shapes of the training, validation and test input data:\", X_train.shape, X_valid.shape, X_test.shape)\n",
        "print(\"Shapes of the training, validation and test output data:\", Y_train.shape, Y_valid.shape, Y_test.shape)\n",
        "print(\"Mean values of the training, validation and test input data:\", X_train.mean(), X_valid.mean(), X_test.mean())\n",
        "print(\"Standard deviation of the training, validation and test input data:\", X_train.std(), X_valid.std(), X_test.std())"
      ],
      "metadata": {
        "id": "O_jdJVcvX0vi",
        "colab": {
          "base_uri": "https://localhost:8080/"
        },
        "outputId": "be9c1e18-e0d5-4ff3-8c0c-5111fb25b95e"
      },
      "execution_count": null,
      "outputs": [
        {
          "output_type": "stream",
          "name": "stdout",
          "text": [
            "Shapes of the training, validation and test input data: (40000, 3072) (10000, 3072) (10000, 3072)\n",
            "Shapes of the training, validation and test output data: (40000, 10) (10000, 10) (10000, 10)\n",
            "Mean values of the training, validation and test input data: -2.4725992e-09 0.0023437182 0.013331188\n",
            "Standard deviation of the training, validation and test input data: 1.0000038 0.99656224 0.9978297\n"
          ]
        }
      ]
    },
    {
      "cell_type": "markdown",
      "source": [
        "Don't worry, if the mean and standard deviation of the validation and test data are not exactly 0 and 1, but these might be very mear to it (e.g. 0.01 mean, 0.99 variance)."
      ],
      "metadata": {
        "id": "5GtAOOoezmZY"
      }
    },
    {
      "cell_type": "markdown",
      "metadata": {
        "id": "cJ14oyZExpqj"
      },
      "source": [
        "# 2. Training"
      ]
    },
    {
      "cell_type": "markdown",
      "metadata": {
        "id": "s4ZXYRMBxpql"
      },
      "source": [
        "Let us begin with a simple example of creating a small neural network without regularization and training it with actual data. The purpose of this is to provide you with an example as to how to proceed with the next exercise."
      ]
    },
    {
      "cell_type": "code",
      "source": [
        "# imports\n",
        "import numpy as np\n",
        "import matplotlib.pyplot as plt\n",
        "from tensorflow.keras.models import Sequential\n",
        "from tensorflow.keras.layers import Dense, Embedding, Flatten, Dropout\n",
        "from tensorflow.keras.initializers import HeNormal\n",
        "from tensorflow.keras.callbacks import EarlyStopping"
      ],
      "metadata": {
        "id": "6-8Q6ll7ZDgq"
      },
      "execution_count": null,
      "outputs": []
    },
    {
      "cell_type": "code",
      "source": [
        "# model definition\n",
        "model = Sequential()\n",
        "model.add(Dense(128, activation='tanh', input_shape=(flattened_dim,)))\n",
        "model.add(Dense(128, activation='tanh'))\n",
        "model.add(Dense(nb_classes, activation='softmax'))\n",
        "\n",
        "# loss function and optimizer\n",
        "model.compile(loss='categorical_crossentropy', optimizer='adam', metrics=['accuracy'])"
      ],
      "metadata": {
        "id": "pke6w3CD8DHp"
      },
      "execution_count": null,
      "outputs": []
    },
    {
      "cell_type": "code",
      "metadata": {
        "id": "CZbOR76QxprC",
        "colab": {
          "base_uri": "https://localhost:8080/"
        },
        "outputId": "b0e1f382-4871-487e-a7c8-9b68849ee5c8"
      },
      "source": [
        "# training\n",
        "network_history = model.fit(X_train, Y_train,\n",
        "                            validation_data=(X_valid,Y_valid),\n",
        "                            batch_size=128,\n",
        "                            epochs=40,\n",
        "                            verbose=1)"
      ],
      "execution_count": null,
      "outputs": [
        {
          "output_type": "stream",
          "name": "stdout",
          "text": [
            "Epoch 1/40\n",
            "313/313 [==============================] - 5s 15ms/step - loss: 1.8202 - accuracy: 0.3639 - val_loss: 1.7578 - val_accuracy: 0.3910\n",
            "Epoch 2/40\n",
            "313/313 [==============================] - 5s 15ms/step - loss: 1.6961 - accuracy: 0.4067 - val_loss: 1.7360 - val_accuracy: 0.3918\n",
            "Epoch 3/40\n",
            "313/313 [==============================] - 4s 14ms/step - loss: 1.6423 - accuracy: 0.4286 - val_loss: 1.7047 - val_accuracy: 0.4110\n",
            "Epoch 4/40\n",
            "313/313 [==============================] - 4s 13ms/step - loss: 1.5982 - accuracy: 0.4469 - val_loss: 1.6943 - val_accuracy: 0.4180\n",
            "Epoch 5/40\n",
            "313/313 [==============================] - 5s 16ms/step - loss: 1.5598 - accuracy: 0.4602 - val_loss: 1.6818 - val_accuracy: 0.4196\n",
            "Epoch 6/40\n",
            "313/313 [==============================] - 4s 13ms/step - loss: 1.5342 - accuracy: 0.4678 - val_loss: 1.6552 - val_accuracy: 0.4295\n",
            "Epoch 7/40\n",
            "313/313 [==============================] - 4s 13ms/step - loss: 1.5022 - accuracy: 0.4809 - val_loss: 1.6424 - val_accuracy: 0.4326\n",
            "Epoch 8/40\n",
            "313/313 [==============================] - 5s 16ms/step - loss: 1.4705 - accuracy: 0.4885 - val_loss: 1.6364 - val_accuracy: 0.4360\n",
            "Epoch 9/40\n",
            "313/313 [==============================] - 4s 13ms/step - loss: 1.4445 - accuracy: 0.5000 - val_loss: 1.6204 - val_accuracy: 0.4376\n",
            "Epoch 10/40\n",
            "313/313 [==============================] - 4s 13ms/step - loss: 1.4111 - accuracy: 0.5095 - val_loss: 1.6316 - val_accuracy: 0.4379\n",
            "Epoch 11/40\n",
            "313/313 [==============================] - 5s 16ms/step - loss: 1.3863 - accuracy: 0.5210 - val_loss: 1.6219 - val_accuracy: 0.4471\n",
            "Epoch 12/40\n",
            "313/313 [==============================] - 4s 13ms/step - loss: 1.3728 - accuracy: 0.5217 - val_loss: 1.6161 - val_accuracy: 0.4493\n",
            "Epoch 13/40\n",
            "313/313 [==============================] - 4s 13ms/step - loss: 1.3519 - accuracy: 0.5310 - val_loss: 1.6213 - val_accuracy: 0.4457\n",
            "Epoch 14/40\n",
            "313/313 [==============================] - 5s 15ms/step - loss: 1.3306 - accuracy: 0.5412 - val_loss: 1.6262 - val_accuracy: 0.4446\n",
            "Epoch 15/40\n",
            "313/313 [==============================] - 4s 12ms/step - loss: 1.3121 - accuracy: 0.5415 - val_loss: 1.6227 - val_accuracy: 0.4477\n",
            "Epoch 16/40\n",
            "313/313 [==============================] - 4s 12ms/step - loss: 1.2919 - accuracy: 0.5505 - val_loss: 1.6131 - val_accuracy: 0.4477\n",
            "Epoch 17/40\n",
            "313/313 [==============================] - 5s 15ms/step - loss: 1.2644 - accuracy: 0.5626 - val_loss: 1.6097 - val_accuracy: 0.4480\n",
            "Epoch 18/40\n",
            "313/313 [==============================] - 4s 12ms/step - loss: 1.2503 - accuracy: 0.5669 - val_loss: 1.6196 - val_accuracy: 0.4501\n",
            "Epoch 19/40\n",
            "313/313 [==============================] - 4s 12ms/step - loss: 1.2344 - accuracy: 0.5725 - val_loss: 1.6161 - val_accuracy: 0.4498\n",
            "Epoch 20/40\n",
            "313/313 [==============================] - 5s 15ms/step - loss: 1.2117 - accuracy: 0.5818 - val_loss: 1.6186 - val_accuracy: 0.4463\n",
            "Epoch 21/40\n",
            "313/313 [==============================] - 4s 13ms/step - loss: 1.2005 - accuracy: 0.5846 - val_loss: 1.6364 - val_accuracy: 0.4506\n",
            "Epoch 22/40\n",
            "313/313 [==============================] - 4s 13ms/step - loss: 1.1765 - accuracy: 0.5915 - val_loss: 1.6456 - val_accuracy: 0.4464\n",
            "Epoch 23/40\n",
            "313/313 [==============================] - 4s 14ms/step - loss: 1.1623 - accuracy: 0.5988 - val_loss: 1.6386 - val_accuracy: 0.4547\n",
            "Epoch 24/40\n",
            "313/313 [==============================] - 4s 13ms/step - loss: 1.1384 - accuracy: 0.6077 - val_loss: 1.6547 - val_accuracy: 0.4463\n",
            "Epoch 25/40\n",
            "313/313 [==============================] - 4s 12ms/step - loss: 1.1306 - accuracy: 0.6081 - val_loss: 1.6592 - val_accuracy: 0.4493\n",
            "Epoch 26/40\n",
            "313/313 [==============================] - 4s 13ms/step - loss: 1.1123 - accuracy: 0.6157 - val_loss: 1.6732 - val_accuracy: 0.4510\n",
            "Epoch 27/40\n",
            "313/313 [==============================] - 4s 14ms/step - loss: 1.0913 - accuracy: 0.6226 - val_loss: 1.6822 - val_accuracy: 0.4489\n",
            "Epoch 28/40\n",
            "313/313 [==============================] - 4s 13ms/step - loss: 1.0653 - accuracy: 0.6317 - val_loss: 1.6970 - val_accuracy: 0.4416\n",
            "Epoch 29/40\n",
            "313/313 [==============================] - 4s 13ms/step - loss: 1.0538 - accuracy: 0.6339 - val_loss: 1.6771 - val_accuracy: 0.4484\n",
            "Epoch 30/40\n",
            "313/313 [==============================] - 5s 15ms/step - loss: 1.0431 - accuracy: 0.6389 - val_loss: 1.7009 - val_accuracy: 0.4502\n",
            "Epoch 31/40\n",
            "313/313 [==============================] - 4s 12ms/step - loss: 1.0164 - accuracy: 0.6500 - val_loss: 1.7260 - val_accuracy: 0.4478\n",
            "Epoch 32/40\n",
            "313/313 [==============================] - 4s 12ms/step - loss: 1.0069 - accuracy: 0.6541 - val_loss: 1.7306 - val_accuracy: 0.4496\n",
            "Epoch 33/40\n",
            "313/313 [==============================] - 5s 14ms/step - loss: 0.9994 - accuracy: 0.6543 - val_loss: 1.7347 - val_accuracy: 0.4454\n",
            "Epoch 34/40\n",
            "313/313 [==============================] - 4s 12ms/step - loss: 0.9735 - accuracy: 0.6648 - val_loss: 1.7484 - val_accuracy: 0.4464\n",
            "Epoch 35/40\n",
            "313/313 [==============================] - 4s 12ms/step - loss: 0.9663 - accuracy: 0.6672 - val_loss: 1.7623 - val_accuracy: 0.4514\n",
            "Epoch 36/40\n",
            "313/313 [==============================] - 5s 16ms/step - loss: 0.9457 - accuracy: 0.6726 - val_loss: 1.7658 - val_accuracy: 0.4538\n",
            "Epoch 37/40\n",
            "313/313 [==============================] - 4s 11ms/step - loss: 0.9257 - accuracy: 0.6818 - val_loss: 1.7919 - val_accuracy: 0.4467\n",
            "Epoch 38/40\n",
            "313/313 [==============================] - 4s 12ms/step - loss: 0.9259 - accuracy: 0.6824 - val_loss: 1.7910 - val_accuracy: 0.4476\n",
            "Epoch 39/40\n",
            "313/313 [==============================] - 5s 15ms/step - loss: 0.9139 - accuracy: 0.6858 - val_loss: 1.7938 - val_accuracy: 0.4503\n",
            "Epoch 40/40\n",
            "313/313 [==============================] - 4s 11ms/step - loss: 0.8891 - accuracy: 0.6971 - val_loss: 1.8424 - val_accuracy: 0.4394\n"
          ]
        }
      ]
    },
    {
      "cell_type": "markdown",
      "metadata": {
        "id": "uFqhzV85xprJ"
      },
      "source": [
        "Let's plot the training and validation loss and accuracy curves:"
      ]
    },
    {
      "cell_type": "code",
      "metadata": {
        "id": "BYmXGkLCxprK",
        "colab": {
          "base_uri": "https://localhost:8080/",
          "height": 881
        },
        "outputId": "9d37699b-48c2-4262-96be-25c296cee1d3"
      },
      "source": [
        "def plot_history(network_history):\n",
        "    plt.figure()\n",
        "    plt.xlabel('Epochs')\n",
        "    plt.ylabel('Loss')\n",
        "    plt.plot(network_history.history['loss'])\n",
        "    plt.plot(network_history.history['val_loss'])\n",
        "    plt.legend(['Training', 'Validation'])\n",
        "\n",
        "    plt.figure()\n",
        "    plt.xlabel('Epochs')\n",
        "    plt.ylabel('Accuracy')\n",
        "    plt.plot(network_history.history['accuracy'])\n",
        "    plt.plot(network_history.history['val_accuracy'])\n",
        "    plt.legend(['Training', 'Validation'], loc='lower right')\n",
        "    plt.show()\n",
        "\n",
        "plot_history(network_history)"
      ],
      "execution_count": null,
      "outputs": [
        {
          "output_type": "display_data",
          "data": {
            "text/plain": [
              "<Figure size 640x480 with 1 Axes>"
            ],
            "image/png": "[encoded data removed]"
          },
          "metadata": {}
        },
        {
          "output_type": "display_data",
          "data": {
            "text/plain": [
              "<Figure size 640x480 with 1 Axes>"
            ],
            "image/png": "[encoded data removed]"
          },
          "metadata": {}
        }
      ]
    },
    {
      "cell_type": "markdown",
      "source": [
        "What do you think? Does it overfit?\n",
        "\n",
        "Yes, it does overfit."
      ],
      "metadata": {
        "id": "tgG7QeXF-dx6"
      }
    },
    {
      "cell_type": "markdown",
      "metadata": {
        "id": "_Q9rIeBBxprO"
      },
      "source": [
        "# Inspecting the model"
      ]
    },
    {
      "cell_type": "code",
      "metadata": {
        "id": "6r2AmmoMxprP",
        "colab": {
          "base_uri": "https://localhost:8080/"
        },
        "outputId": "088283ad-12b9-45f4-e245-248c095168ed"
      },
      "source": [
        "model.summary()"
      ],
      "execution_count": null,
      "outputs": [
        {
          "output_type": "stream",
          "name": "stdout",
          "text": [
            "Model: \"sequential\"\n",
            "_________________________________________________________________\n",
            " Layer (type)                Output Shape              Param #   \n",
            "=================================================================\n",
            " dense (Dense)               (None, 128)               393344    \n",
            "                                                                 \n",
            " dense_1 (Dense)             (None, 128)               16512     \n",
            "                                                                 \n",
            " dense_2 (Dense)             (None, 10)                1290      \n",
            "                                                                 \n",
            "=================================================================\n",
            "Total params: 411146 (1.57 MB)\n",
            "Trainable params: 411146 (1.57 MB)\n",
            "Non-trainable params: 0 (0.00 Byte)\n",
            "_________________________________________________________________\n"
          ]
        }
      ]
    },
    {
      "cell_type": "code",
      "metadata": {
        "id": "D3-bVDVuxprS",
        "colab": {
          "base_uri": "https://localhost:8080/"
        },
        "outputId": "f9c09000-09af-45b8-9b58-d9c8b943bc90"
      },
      "source": [
        "print('Input: ', model.input)"
      ],
      "execution_count": null,
      "outputs": [
        {
          "output_type": "stream",
          "name": "stdout",
          "text": [
            "Input:  KerasTensor(type_spec=TensorSpec(shape=(None, 3072), dtype=tf.float32, name='dense_input'), name='dense_input', description=\"created by layer 'dense_input'\")\n"
          ]
        }
      ]
    },
    {
      "cell_type": "code",
      "metadata": {
        "id": "Da2OJ3DmxprX",
        "colab": {
          "base_uri": "https://localhost:8080/"
        },
        "outputId": "d07bbad1-a2ca-4737-a241-7471ba53b49d"
      },
      "source": [
        "print('Layers:\\n')\n",
        "for layer in model.layers:\n",
        "    print(\"Layer's name: \", layer.name, ', trainable: ', layer.trainable)\n",
        "    print(layer.get_config(),'\\n')"
      ],
      "execution_count": null,
      "outputs": [
        {
          "output_type": "stream",
          "name": "stdout",
          "text": [
            "Layers:\n",
            "\n",
            "Layer's name:  dense , trainable:  True\n",
            "{'name': 'dense', 'trainable': True, 'dtype': 'float32', 'batch_input_shape': (None, 3072), 'units': 128, 'activation': 'tanh', 'use_bias': True, 'kernel_initializer': {'module': 'keras.initializers', 'class_name': 'GlorotUniform', 'config': {'seed': None}, 'registered_name': None}, 'bias_initializer': {'module': 'keras.initializers', 'class_name': 'Zeros', 'config': {}, 'registered_name': None}, 'kernel_regularizer': None, 'bias_regularizer': None, 'activity_regularizer': None, 'kernel_constraint': None, 'bias_constraint': None} \n",
            "\n",
            "Layer's name:  dense_1 , trainable:  True\n",
            "{'name': 'dense_1', 'trainable': True, 'dtype': 'float32', 'units': 128, 'activation': 'tanh', 'use_bias': True, 'kernel_initializer': {'module': 'keras.initializers', 'class_name': 'GlorotUniform', 'config': {'seed': None}, 'registered_name': None}, 'bias_initializer': {'module': 'keras.initializers', 'class_name': 'Zeros', 'config': {}, 'registered_name': None}, 'kernel_regularizer': None, 'bias_regularizer': None, 'activity_regularizer': None, 'kernel_constraint': None, 'bias_constraint': None} \n",
            "\n",
            "Layer's name:  dense_2 , trainable:  True\n",
            "{'name': 'dense_2', 'trainable': True, 'dtype': 'float32', 'units': 10, 'activation': 'softmax', 'use_bias': True, 'kernel_initializer': {'module': 'keras.initializers', 'class_name': 'GlorotUniform', 'config': {'seed': None}, 'registered_name': None}, 'bias_initializer': {'module': 'keras.initializers', 'class_name': 'Zeros', 'config': {}, 'registered_name': None}, 'kernel_regularizer': None, 'bias_regularizer': None, 'activity_regularizer': None, 'kernel_constraint': None, 'bias_constraint': None} \n",
            "\n"
          ]
        }
      ]
    },
    {
      "cell_type": "code",
      "metadata": {
        "id": "AtVX3M3lxprc",
        "colab": {
          "base_uri": "https://localhost:8080/"
        },
        "outputId": "3e9c4814-d443-464a-a5d4-23a23dc8bc55"
      },
      "source": [
        "print('Output: ', model.output)"
      ],
      "execution_count": null,
      "outputs": [
        {
          "output_type": "stream",
          "name": "stdout",
          "text": [
            "Output:  KerasTensor(type_spec=TensorSpec(shape=(None, 10), dtype=tf.float32, name=None), name='dense_2/Softmax:0', description=\"created by layer 'dense_2'\")\n"
          ]
        }
      ]
    },
    {
      "cell_type": "markdown",
      "source": [
        "## 2.1. Exercise\n",
        "Introduce [early stopping](https://www.tensorflow.org/api_docs/python/tf/keras/callbacks/EarlyStopping) and [dropout](https://www.tensorflow.org/api_docs/python/tf/keras/layers/Dropout) with a rate between 0.1..0.5. Tips:\n",
        "\n",
        "* Insert the dropout layer between the two Dense layers.\n",
        "* Set the patience of early stopping to 5.\n",
        "* Set the number of epochs to a very high number.\n",
        "* Don't forget to restore best weights after early stopping.\n",
        "* And also set early stopping to monitor validation accuracy (the default value is validation loss -- which is categorical crossentropy now).\n",
        "\n",
        "Compile and train the model. Attempt to increase the validation accuracy as much as possible by making changes to the dropout rate. Inspect the effects of the modifications."
      ],
      "metadata": {
        "id": "E-hHfs9qA_iO"
      }
    },
    {
      "cell_type": "code",
      "source": [
        "es = EarlyStopping(\n",
        "    monitor='val_loss',\n",
        "    patience=5,\n",
        "    #min_delta=0.001,\n",
        "    restore_best_weights=True,\n",
        ")"
      ],
      "metadata": {
        "id": "NwXrPzOgEBG-"
      },
      "execution_count": null,
      "outputs": []
    },
    {
      "cell_type": "code",
      "source": [
        "# model definition with dropout\n",
        "model = Sequential()\n",
        "model.add(Dense(128, activation='tanh', input_shape=(flattened_dim,)))\n",
        "model.add(Dropout(0.2))\n",
        "model.add(Dense(128, activation='tanh'))\n",
        "model.add(Dense(nb_classes, activation='softmax'))\n",
        "\n",
        "# loss function and optimizer\n",
        "model.compile(loss='categorical_crossentropy', optimizer='adam', metrics=['accuracy'])"
      ],
      "metadata": {
        "id": "7hZEGzj8GFwP"
      },
      "execution_count": null,
      "outputs": []
    },
    {
      "cell_type": "code",
      "source": [
        "# training with early stopping\n",
        "network_history = model.fit(X_train, Y_train,\n",
        "                            validation_data=(X_valid,Y_valid),\n",
        "                            batch_size=128,\n",
        "                            epochs=100000,\n",
        "                            verbose=1,\n",
        "                            callbacks=es)"
      ],
      "metadata": {
        "id": "GCG54R-vGGWj",
        "colab": {
          "base_uri": "https://localhost:8080/"
        },
        "outputId": "511da2de-8eb4-419f-cc13-301e872fbec9"
      },
      "execution_count": null,
      "outputs": [
        {
          "output_type": "stream",
          "name": "stdout",
          "text": [
            "Epoch 1/100000\n",
            "313/313 [==============================] - 6s 17ms/step - loss: 1.8589 - accuracy: 0.3509 - val_loss: 1.7602 - val_accuracy: 0.3917\n",
            "Epoch 2/100000\n",
            "313/313 [==============================] - 4s 13ms/step - loss: 1.7405 - accuracy: 0.3944 - val_loss: 1.7341 - val_accuracy: 0.3998\n",
            "Epoch 3/100000\n",
            "313/313 [==============================] - 4s 13ms/step - loss: 1.7016 - accuracy: 0.4099 - val_loss: 1.6965 - val_accuracy: 0.4153\n",
            "Epoch 4/100000\n",
            "313/313 [==============================] - 5s 16ms/step - loss: 1.6715 - accuracy: 0.4165 - val_loss: 1.6822 - val_accuracy: 0.4195\n",
            "Epoch 5/100000\n",
            "313/313 [==============================] - 4s 13ms/step - loss: 1.6345 - accuracy: 0.4326 - val_loss: 1.6808 - val_accuracy: 0.4174\n",
            "Epoch 6/100000\n",
            "313/313 [==============================] - 4s 13ms/step - loss: 1.6172 - accuracy: 0.4394 - val_loss: 1.6572 - val_accuracy: 0.4305\n",
            "Epoch 7/100000\n",
            "313/313 [==============================] - 5s 14ms/step - loss: 1.5954 - accuracy: 0.4456 - val_loss: 1.6309 - val_accuracy: 0.4385\n",
            "Epoch 8/100000\n",
            "313/313 [==============================] - 4s 13ms/step - loss: 1.5761 - accuracy: 0.4505 - val_loss: 1.6411 - val_accuracy: 0.4291\n",
            "Epoch 9/100000\n",
            "313/313 [==============================] - 4s 13ms/step - loss: 1.5599 - accuracy: 0.4568 - val_loss: 1.6297 - val_accuracy: 0.4319\n",
            "Epoch 10/100000\n",
            "313/313 [==============================] - 5s 16ms/step - loss: 1.5428 - accuracy: 0.4625 - val_loss: 1.6138 - val_accuracy: 0.4380\n",
            "Epoch 11/100000\n",
            "313/313 [==============================] - 4s 13ms/step - loss: 1.5230 - accuracy: 0.4694 - val_loss: 1.6041 - val_accuracy: 0.4432\n",
            "Epoch 12/100000\n",
            "313/313 [==============================] - 4s 14ms/step - loss: 1.5112 - accuracy: 0.4708 - val_loss: 1.5990 - val_accuracy: 0.4445\n",
            "Epoch 13/100000\n",
            "313/313 [==============================] - 4s 14ms/step - loss: 1.4963 - accuracy: 0.4772 - val_loss: 1.5865 - val_accuracy: 0.4521\n",
            "Epoch 14/100000\n",
            "313/313 [==============================] - 4s 13ms/step - loss: 1.4847 - accuracy: 0.4834 - val_loss: 1.5775 - val_accuracy: 0.4512\n",
            "Epoch 15/100000\n",
            "313/313 [==============================] - 4s 14ms/step - loss: 1.4702 - accuracy: 0.4862 - val_loss: 1.5650 - val_accuracy: 0.4580\n",
            "Epoch 16/100000\n",
            "313/313 [==============================] - 5s 15ms/step - loss: 1.4609 - accuracy: 0.4904 - val_loss: 1.5641 - val_accuracy: 0.4546\n",
            "Epoch 17/100000\n",
            "313/313 [==============================] - 4s 13ms/step - loss: 1.4466 - accuracy: 0.4931 - val_loss: 1.5659 - val_accuracy: 0.4600\n",
            "Epoch 18/100000\n",
            "313/313 [==============================] - 4s 14ms/step - loss: 1.4361 - accuracy: 0.4974 - val_loss: 1.5510 - val_accuracy: 0.4604\n",
            "Epoch 19/100000\n",
            "313/313 [==============================] - 4s 13ms/step - loss: 1.4232 - accuracy: 0.5015 - val_loss: 1.5481 - val_accuracy: 0.4627\n",
            "Epoch 20/100000\n",
            "313/313 [==============================] - 4s 13ms/step - loss: 1.4104 - accuracy: 0.5052 - val_loss: 1.5539 - val_accuracy: 0.4581\n",
            "Epoch 21/100000\n",
            "313/313 [==============================] - 4s 14ms/step - loss: 1.4042 - accuracy: 0.5067 - val_loss: 1.5452 - val_accuracy: 0.4646\n",
            "Epoch 22/100000\n",
            "313/313 [==============================] - 5s 15ms/step - loss: 1.3913 - accuracy: 0.5124 - val_loss: 1.5376 - val_accuracy: 0.4628\n",
            "Epoch 23/100000\n",
            "313/313 [==============================] - 4s 12ms/step - loss: 1.3767 - accuracy: 0.5167 - val_loss: 1.5365 - val_accuracy: 0.4669\n",
            "Epoch 24/100000\n",
            "313/313 [==============================] - 4s 14ms/step - loss: 1.3701 - accuracy: 0.5191 - val_loss: 1.5278 - val_accuracy: 0.4696\n",
            "Epoch 25/100000\n",
            "313/313 [==============================] - 5s 15ms/step - loss: 1.3664 - accuracy: 0.5210 - val_loss: 1.5344 - val_accuracy: 0.4653\n",
            "Epoch 26/100000\n",
            "313/313 [==============================] - 4s 12ms/step - loss: 1.3569 - accuracy: 0.5211 - val_loss: 1.5344 - val_accuracy: 0.4675\n",
            "Epoch 27/100000\n",
            "313/313 [==============================] - 4s 13ms/step - loss: 1.3475 - accuracy: 0.5253 - val_loss: 1.5169 - val_accuracy: 0.4719\n",
            "Epoch 28/100000\n",
            "313/313 [==============================] - 5s 16ms/step - loss: 1.3368 - accuracy: 0.5299 - val_loss: 1.5195 - val_accuracy: 0.4788\n",
            "Epoch 29/100000\n",
            "313/313 [==============================] - 4s 13ms/step - loss: 1.3317 - accuracy: 0.5321 - val_loss: 1.5232 - val_accuracy: 0.4664\n",
            "Epoch 30/100000\n",
            "313/313 [==============================] - 4s 14ms/step - loss: 1.3246 - accuracy: 0.5338 - val_loss: 1.5221 - val_accuracy: 0.4719\n",
            "Epoch 31/100000\n",
            "313/313 [==============================] - 4s 13ms/step - loss: 1.3122 - accuracy: 0.5372 - val_loss: 1.5186 - val_accuracy: 0.4712\n",
            "Epoch 32/100000\n",
            "313/313 [==============================] - 4s 13ms/step - loss: 1.3033 - accuracy: 0.5406 - val_loss: 1.5197 - val_accuracy: 0.4718\n"
          ]
        }
      ]
    },
    {
      "cell_type": "markdown",
      "source": [
        "## 2.2 Exercise\n",
        "Change the [activation function of the dense layers (except the last one)](https://www.tensorflow.org/api_docs/python/tf/keras/layers/Dense) to rectified linear unit (ReLU) and the [weight initialization](https://www.tensorflow.org/api_docs/python/tf/keras/initializers) to the theoretically best one. Use the original model's code.\n",
        "\n",
        "Compile and train the model. Inspect the effects of the modifications."
      ],
      "metadata": {
        "id": "zQCDM1o1BBtF"
      }
    },
    {
      "cell_type": "code",
      "source": [
        "# model definition with relu\n",
        "model = Sequential()\n",
        "model.add(Dense(128, activation='relu', kernel_initializer=\"glorot_normal\", input_shape=(flattened_dim,)))\n",
        "model.add(Dense(128, activation='relu', kernel_initializer=\"glorot_normal\"))\n",
        "model.add(Dense(nb_classes, activation='softmax'))\n",
        "\n",
        "# loss function and optimizer\n",
        "model.compile(loss='categorical_crossentropy', optimizer='adam', metrics=['accuracy'])"
      ],
      "metadata": {
        "id": "YjHAAh-wGu9O"
      },
      "execution_count": null,
      "outputs": []
    },
    {
      "cell_type": "code",
      "source": [
        "# training\n",
        "network_history = model.fit(X_train, Y_train,\n",
        "                            validation_data=(X_valid,Y_valid),\n",
        "                            batch_size=128,\n",
        "                            epochs=40,\n",
        "                            verbose=1)"
      ],
      "metadata": {
        "id": "rarwKM1wGxMz",
        "colab": {
          "base_uri": "https://localhost:8080/"
        },
        "outputId": "e4e85bba-8ea4-43bc-e91f-1d0df7838c28"
      },
      "execution_count": null,
      "outputs": [
        {
          "output_type": "stream",
          "name": "stdout",
          "text": [
            "Epoch 1/40\n",
            "313/313 [==============================] - 6s 16ms/step - loss: 1.7737 - accuracy: 0.3873 - val_loss: 1.6636 - val_accuracy: 0.4218\n",
            "Epoch 2/40\n",
            "313/313 [==============================] - 7s 22ms/step - loss: 1.5238 - accuracy: 0.4685 - val_loss: 1.5735 - val_accuracy: 0.4434\n",
            "Epoch 3/40\n",
            "313/313 [==============================] - 4s 13ms/step - loss: 1.4018 - accuracy: 0.5093 - val_loss: 1.5554 - val_accuracy: 0.4706\n",
            "Epoch 4/40\n",
            "313/313 [==============================] - 4s 13ms/step - loss: 1.3209 - accuracy: 0.5381 - val_loss: 1.5065 - val_accuracy: 0.4823\n",
            "Epoch 5/40\n",
            "313/313 [==============================] - 5s 15ms/step - loss: 1.2476 - accuracy: 0.5627 - val_loss: 1.4849 - val_accuracy: 0.4920\n",
            "Epoch 6/40\n",
            "313/313 [==============================] - 4s 12ms/step - loss: 1.1863 - accuracy: 0.5839 - val_loss: 1.5005 - val_accuracy: 0.4910\n",
            "Epoch 7/40\n",
            "313/313 [==============================] - 4s 12ms/step - loss: 1.1248 - accuracy: 0.6045 - val_loss: 1.5181 - val_accuracy: 0.4938\n",
            "Epoch 8/40\n",
            "313/313 [==============================] - 5s 15ms/step - loss: 1.0793 - accuracy: 0.6221 - val_loss: 1.5093 - val_accuracy: 0.5005\n",
            "Epoch 9/40\n",
            "313/313 [==============================] - 4s 12ms/step - loss: 1.0281 - accuracy: 0.6378 - val_loss: 1.5954 - val_accuracy: 0.4900\n",
            "Epoch 10/40\n",
            "313/313 [==============================] - 4s 11ms/step - loss: 0.9906 - accuracy: 0.6508 - val_loss: 1.5724 - val_accuracy: 0.4927\n",
            "Epoch 11/40\n",
            "313/313 [==============================] - 4s 13ms/step - loss: 0.9429 - accuracy: 0.6679 - val_loss: 1.5747 - val_accuracy: 0.5015\n",
            "Epoch 12/40\n",
            "313/313 [==============================] - 4s 14ms/step - loss: 0.9047 - accuracy: 0.6819 - val_loss: 1.6136 - val_accuracy: 0.5042\n",
            "Epoch 13/40\n",
            "313/313 [==============================] - 4s 12ms/step - loss: 0.8651 - accuracy: 0.6956 - val_loss: 1.6430 - val_accuracy: 0.4980\n",
            "Epoch 14/40\n",
            "313/313 [==============================] - 4s 13ms/step - loss: 0.8390 - accuracy: 0.7046 - val_loss: 1.6773 - val_accuracy: 0.5042\n",
            "Epoch 15/40\n",
            "313/313 [==============================] - 4s 14ms/step - loss: 0.7926 - accuracy: 0.7195 - val_loss: 1.7126 - val_accuracy: 0.4923\n",
            "Epoch 16/40\n",
            "313/313 [==============================] - 4s 13ms/step - loss: 0.7603 - accuracy: 0.7328 - val_loss: 1.7603 - val_accuracy: 0.4930\n",
            "Epoch 17/40\n",
            "313/313 [==============================] - 4s 13ms/step - loss: 0.7301 - accuracy: 0.7432 - val_loss: 1.7999 - val_accuracy: 0.4948\n",
            "Epoch 18/40\n",
            "313/313 [==============================] - 5s 16ms/step - loss: 0.6955 - accuracy: 0.7541 - val_loss: 1.8560 - val_accuracy: 0.4915\n",
            "Epoch 19/40\n",
            "313/313 [==============================] - 4s 13ms/step - loss: 0.6667 - accuracy: 0.7678 - val_loss: 1.9241 - val_accuracy: 0.4905\n",
            "Epoch 20/40\n",
            "313/313 [==============================] - 4s 12ms/step - loss: 0.6386 - accuracy: 0.7775 - val_loss: 1.9670 - val_accuracy: 0.4918\n",
            "Epoch 21/40\n",
            "313/313 [==============================] - 5s 14ms/step - loss: 0.6075 - accuracy: 0.7853 - val_loss: 2.0102 - val_accuracy: 0.4901\n",
            "Epoch 22/40\n",
            "313/313 [==============================] - 4s 13ms/step - loss: 0.5834 - accuracy: 0.7945 - val_loss: 2.0903 - val_accuracy: 0.4849\n",
            "Epoch 23/40\n",
            "313/313 [==============================] - 4s 13ms/step - loss: 0.5694 - accuracy: 0.8002 - val_loss: 2.1885 - val_accuracy: 0.4841\n",
            "Epoch 24/40\n",
            "313/313 [==============================] - 5s 16ms/step - loss: 0.5403 - accuracy: 0.8092 - val_loss: 2.2179 - val_accuracy: 0.4845\n",
            "Epoch 25/40\n",
            "313/313 [==============================] - 4s 13ms/step - loss: 0.5197 - accuracy: 0.8160 - val_loss: 2.2475 - val_accuracy: 0.4885\n",
            "Epoch 26/40\n",
            "313/313 [==============================] - 4s 12ms/step - loss: 0.4974 - accuracy: 0.8251 - val_loss: 2.3174 - val_accuracy: 0.4833\n",
            "Epoch 27/40\n",
            "313/313 [==============================] - 5s 15ms/step - loss: 0.4847 - accuracy: 0.8313 - val_loss: 2.3833 - val_accuracy: 0.4825\n",
            "Epoch 28/40\n",
            "313/313 [==============================] - 4s 13ms/step - loss: 0.4603 - accuracy: 0.8374 - val_loss: 2.4270 - val_accuracy: 0.4883\n",
            "Epoch 29/40\n",
            "313/313 [==============================] - 4s 12ms/step - loss: 0.4463 - accuracy: 0.8447 - val_loss: 2.4911 - val_accuracy: 0.4825\n",
            "Epoch 30/40\n",
            "313/313 [==============================] - 5s 16ms/step - loss: 0.4218 - accuracy: 0.8525 - val_loss: 2.5383 - val_accuracy: 0.4823\n",
            "Epoch 31/40\n",
            "313/313 [==============================] - 4s 11ms/step - loss: 0.4040 - accuracy: 0.8587 - val_loss: 2.6487 - val_accuracy: 0.4791\n",
            "Epoch 32/40\n",
            "313/313 [==============================] - 4s 12ms/step - loss: 0.3933 - accuracy: 0.8626 - val_loss: 2.7264 - val_accuracy: 0.4810\n",
            "Epoch 33/40\n",
            "313/313 [==============================] - 5s 15ms/step - loss: 0.3799 - accuracy: 0.8670 - val_loss: 2.7847 - val_accuracy: 0.4773\n",
            "Epoch 34/40\n",
            "313/313 [==============================] - 4s 12ms/step - loss: 0.3716 - accuracy: 0.8707 - val_loss: 2.8181 - val_accuracy: 0.4842\n",
            "Epoch 35/40\n",
            "313/313 [==============================] - 4s 13ms/step - loss: 0.3620 - accuracy: 0.8717 - val_loss: 2.9088 - val_accuracy: 0.4806\n",
            "Epoch 36/40\n",
            "313/313 [==============================] - 5s 15ms/step - loss: 0.3469 - accuracy: 0.8810 - val_loss: 2.9828 - val_accuracy: 0.4755\n",
            "Epoch 37/40\n",
            "313/313 [==============================] - 4s 13ms/step - loss: 0.3364 - accuracy: 0.8829 - val_loss: 3.0553 - val_accuracy: 0.4835\n",
            "Epoch 38/40\n",
            "313/313 [==============================] - 4s 13ms/step - loss: 0.3227 - accuracy: 0.8877 - val_loss: 3.1353 - val_accuracy: 0.4796\n",
            "Epoch 39/40\n",
            "313/313 [==============================] - 5s 15ms/step - loss: 0.3241 - accuracy: 0.8863 - val_loss: 3.1304 - val_accuracy: 0.4782\n",
            "Epoch 40/40\n",
            "313/313 [==============================] - 4s 12ms/step - loss: 0.2978 - accuracy: 0.8970 - val_loss: 3.2201 - val_accuracy: 0.4795\n"
          ]
        }
      ]
    },
    {
      "cell_type": "markdown",
      "source": [
        "# 2.3. Exercise\n",
        "Based on the modifications above, and by any further modifications (e.g. more layers, less layers, more neurons/layer, etc.) to the model design, find a combination that is able to achieve **validation accuracy, that is higher than 53%**.\n"
      ],
      "metadata": {
        "id": "j1tGVPdD-pp3"
      }
    },
    {
      "cell_type": "code",
      "source": [
        "es = EarlyStopping(\n",
        "    monitor='val_loss',\n",
        "    patience=15,\n",
        "    restore_best_weights=True,\n",
        ")"
      ],
      "metadata": {
        "id": "5dBQxJHIHrbd"
      },
      "execution_count": null,
      "outputs": []
    },
    {
      "cell_type": "code",
      "source": [
        "# import more optimizers\n",
        "from tensorflow.keras.layers import BatchNormalization\n",
        "from keras.regularizers import l2\n",
        "\n",
        "# early stopping callback\n",
        "es = EarlyStopping(\n",
        "    monitor='val_loss',\n",
        "    patience=15,\n",
        "    restore_best_weights=True,\n",
        ")\n",
        "\n",
        "# model definition\n",
        "model = Sequential()\n",
        "model.add(Dense(512, activation='relu', kernel_initializer=\"he_normal\", input_shape=(flattened_dim,)))\n",
        "model.add(BatchNormalization())\n",
        "model.add(Dropout(0.5))\n",
        "\n",
        "model.add(Dense(512, activation='relu', kernel_initializer=\"he_normal\", kernel_regularizer=l2(0.001)))\n",
        "model.add(BatchNormalization())\n",
        "model.add(Dropout(0.5))\n",
        "\n",
        "model.add(Dense(256, activation='relu', kernel_initializer=\"he_normal\", kernel_regularizer=l2(0.001)))\n",
        "model.add(BatchNormalization())\n",
        "model.add(Dropout(0.5))\n",
        "\n",
        "model.add(Dense(128, activation='relu', kernel_initializer=\"he_normal\", kernel_regularizer=l2(0.001)))\n",
        "model.add(BatchNormalization())\n",
        "model.add(Dropout(0.5))\n",
        "\n",
        "model.add(Dense(nb_classes, activation='softmax'))\n",
        "\n",
        "# Loss function and optimizer\n",
        "model.compile(loss='categorical_crossentropy', optimizer='adam', metrics=['accuracy'])\n",
        "\n",
        "# Training\n",
        "network_history = model.fit(X_train, Y_train,\n",
        "                            validation_data=(X_valid, Y_valid),\n",
        "                            batch_size=128,\n",
        "                            epochs=1000,\n",
        "                            verbose=1,\n",
        "                            callbacks=[es])"
      ],
      "metadata": {
        "id": "PuxHOqLt-3Nd",
        "colab": {
          "base_uri": "https://localhost:8080/"
        },
        "outputId": "602aa846-636f-42b1-89c8-bce601506259"
      },
      "execution_count": null,
      "outputs": [
        {
          "output_type": "stream",
          "name": "stdout",
          "text": [
            "Epoch 1/1000\n",
            "313/313 [==============================] - 19s 53ms/step - loss: 4.0917 - accuracy: 0.2214 - val_loss: 3.3351 - val_accuracy: 0.3580\n",
            "Epoch 2/1000\n",
            "313/313 [==============================] - 16s 51ms/step - loss: 3.2443 - accuracy: 0.3153 - val_loss: 2.8397 - val_accuracy: 0.3952\n",
            "Epoch 3/1000\n",
            "313/313 [==============================] - 19s 60ms/step - loss: 2.7402 - accuracy: 0.3683 - val_loss: 2.4341 - val_accuracy: 0.4304\n",
            "Epoch 4/1000\n",
            "313/313 [==============================] - 16s 51ms/step - loss: 2.3647 - accuracy: 0.4010 - val_loss: 2.1162 - val_accuracy: 0.4455\n",
            "Epoch 5/1000\n",
            "313/313 [==============================] - 16s 51ms/step - loss: 2.1020 - accuracy: 0.4218 - val_loss: 1.9000 - val_accuracy: 0.4651\n",
            "Epoch 6/1000\n",
            "313/313 [==============================] - 16s 51ms/step - loss: 1.9268 - accuracy: 0.4391 - val_loss: 1.7772 - val_accuracy: 0.4695\n",
            "Epoch 7/1000\n",
            "313/313 [==============================] - 17s 54ms/step - loss: 1.8220 - accuracy: 0.4480 - val_loss: 1.6897 - val_accuracy: 0.4840\n",
            "Epoch 8/1000\n",
            "313/313 [==============================] - 16s 50ms/step - loss: 1.7579 - accuracy: 0.4596 - val_loss: 1.6671 - val_accuracy: 0.4832\n",
            "Epoch 9/1000\n",
            "313/313 [==============================] - 16s 50ms/step - loss: 1.7142 - accuracy: 0.4651 - val_loss: 1.6251 - val_accuracy: 0.4949\n",
            "Epoch 10/1000\n",
            "313/313 [==============================] - 16s 50ms/step - loss: 1.6896 - accuracy: 0.4729 - val_loss: 1.6138 - val_accuracy: 0.4941\n",
            "Epoch 11/1000\n",
            "313/313 [==============================] - 17s 53ms/step - loss: 1.6688 - accuracy: 0.4810 - val_loss: 1.5887 - val_accuracy: 0.5051\n",
            "Epoch 12/1000\n",
            "313/313 [==============================] - 16s 52ms/step - loss: 1.6510 - accuracy: 0.4855 - val_loss: 1.5815 - val_accuracy: 0.5066\n",
            "Epoch 13/1000\n",
            "313/313 [==============================] - 16s 51ms/step - loss: 1.6415 - accuracy: 0.4883 - val_loss: 1.5727 - val_accuracy: 0.5122\n",
            "Epoch 14/1000\n",
            "313/313 [==============================] - 16s 51ms/step - loss: 1.6227 - accuracy: 0.5000 - val_loss: 1.5600 - val_accuracy: 0.5158\n",
            "Epoch 15/1000\n",
            "313/313 [==============================] - 17s 56ms/step - loss: 1.6123 - accuracy: 0.5018 - val_loss: 1.5659 - val_accuracy: 0.5178\n",
            "Epoch 16/1000\n",
            "313/313 [==============================] - 16s 51ms/step - loss: 1.6088 - accuracy: 0.5020 - val_loss: 1.5610 - val_accuracy: 0.5208\n",
            "Epoch 17/1000\n",
            "313/313 [==============================] - 16s 51ms/step - loss: 1.5947 - accuracy: 0.5104 - val_loss: 1.5510 - val_accuracy: 0.5268\n",
            "Epoch 18/1000\n",
            "313/313 [==============================] - 16s 51ms/step - loss: 1.5896 - accuracy: 0.5132 - val_loss: 1.5425 - val_accuracy: 0.5224\n",
            "Epoch 19/1000\n",
            "313/313 [==============================] - 17s 54ms/step - loss: 1.5844 - accuracy: 0.5150 - val_loss: 1.5427 - val_accuracy: 0.5309\n",
            "Epoch 20/1000\n",
            "313/313 [==============================] - 16s 52ms/step - loss: 1.5788 - accuracy: 0.5147 - val_loss: 1.5429 - val_accuracy: 0.5254\n",
            "Epoch 21/1000\n",
            "313/313 [==============================] - 16s 51ms/step - loss: 1.5681 - accuracy: 0.5223 - val_loss: 1.5345 - val_accuracy: 0.5306\n",
            "Epoch 22/1000\n",
            "313/313 [==============================] - 16s 51ms/step - loss: 1.5629 - accuracy: 0.5265 - val_loss: 1.5230 - val_accuracy: 0.5377\n",
            "Epoch 23/1000\n",
            "313/313 [==============================] - 17s 54ms/step - loss: 1.5550 - accuracy: 0.5293 - val_loss: 1.5332 - val_accuracy: 0.5281\n",
            "Epoch 24/1000\n",
            "313/313 [==============================] - 16s 52ms/step - loss: 1.5506 - accuracy: 0.5322 - val_loss: 1.5299 - val_accuracy: 0.5324\n",
            "Epoch 25/1000\n",
            "313/313 [==============================] - 16s 52ms/step - loss: 1.5382 - accuracy: 0.5344 - val_loss: 1.5457 - val_accuracy: 0.5225\n",
            "Epoch 26/1000\n",
            "313/313 [==============================] - 16s 51ms/step - loss: 1.5365 - accuracy: 0.5347 - val_loss: 1.5149 - val_accuracy: 0.5409\n",
            "Epoch 27/1000\n",
            "313/313 [==============================] - 18s 58ms/step - loss: 1.5332 - accuracy: 0.5395 - val_loss: 1.5243 - val_accuracy: 0.5384\n",
            "Epoch 28/1000\n",
            "313/313 [==============================] - 16s 51ms/step - loss: 1.5252 - accuracy: 0.5414 - val_loss: 1.5028 - val_accuracy: 0.5475\n",
            "Epoch 29/1000\n",
            "313/313 [==============================] - 16s 51ms/step - loss: 1.5077 - accuracy: 0.5470 - val_loss: 1.5181 - val_accuracy: 0.5388\n",
            "Epoch 30/1000\n",
            "313/313 [==============================] - 16s 51ms/step - loss: 1.5062 - accuracy: 0.5469 - val_loss: 1.5190 - val_accuracy: 0.5446\n",
            "Epoch 31/1000\n",
            "313/313 [==============================] - 17s 55ms/step - loss: 1.5066 - accuracy: 0.5480 - val_loss: 1.5356 - val_accuracy: 0.5356\n",
            "Epoch 32/1000\n",
            "313/313 [==============================] - 16s 50ms/step - loss: 1.4971 - accuracy: 0.5528 - val_loss: 1.5336 - val_accuracy: 0.5342\n",
            "Epoch 33/1000\n",
            "313/313 [==============================] - 16s 51ms/step - loss: 1.4894 - accuracy: 0.5559 - val_loss: 1.4987 - val_accuracy: 0.5503\n",
            "Epoch 34/1000\n",
            "313/313 [==============================] - 16s 52ms/step - loss: 1.4846 - accuracy: 0.5575 - val_loss: 1.5131 - val_accuracy: 0.5452\n",
            "Epoch 35/1000\n",
            "313/313 [==============================] - 17s 53ms/step - loss: 1.4810 - accuracy: 0.5585 - val_loss: 1.5040 - val_accuracy: 0.5472\n",
            "Epoch 36/1000\n",
            "313/313 [==============================] - 16s 51ms/step - loss: 1.4828 - accuracy: 0.5592 - val_loss: 1.4992 - val_accuracy: 0.5542\n",
            "Epoch 37/1000\n",
            "313/313 [==============================] - 16s 51ms/step - loss: 1.4763 - accuracy: 0.5631 - val_loss: 1.5008 - val_accuracy: 0.5525\n",
            "Epoch 38/1000\n",
            "313/313 [==============================] - 16s 51ms/step - loss: 1.4611 - accuracy: 0.5675 - val_loss: 1.5080 - val_accuracy: 0.5489\n",
            "Epoch 39/1000\n",
            "313/313 [==============================] - 17s 54ms/step - loss: 1.4647 - accuracy: 0.5682 - val_loss: 1.5105 - val_accuracy: 0.5488\n",
            "Epoch 40/1000\n",
            "313/313 [==============================] - 16s 51ms/step - loss: 1.4526 - accuracy: 0.5689 - val_loss: 1.5025 - val_accuracy: 0.5495\n",
            "Epoch 41/1000\n",
            "313/313 [==============================] - 16s 50ms/step - loss: 1.4468 - accuracy: 0.5739 - val_loss: 1.5020 - val_accuracy: 0.5516\n",
            "Epoch 42/1000\n",
            "313/313 [==============================] - 15s 49ms/step - loss: 1.4372 - accuracy: 0.5769 - val_loss: 1.4980 - val_accuracy: 0.5536\n",
            "Epoch 43/1000\n",
            "313/313 [==============================] - 16s 52ms/step - loss: 1.4397 - accuracy: 0.5757 - val_loss: 1.4992 - val_accuracy: 0.5528\n",
            "Epoch 44/1000\n",
            "313/313 [==============================] - 15s 49ms/step - loss: 1.4298 - accuracy: 0.5806 - val_loss: 1.5029 - val_accuracy: 0.5520\n",
            "Epoch 45/1000\n",
            "313/313 [==============================] - 15s 49ms/step - loss: 1.4260 - accuracy: 0.5837 - val_loss: 1.4929 - val_accuracy: 0.5606\n",
            "Epoch 46/1000\n",
            "313/313 [==============================] - 16s 50ms/step - loss: 1.4260 - accuracy: 0.5828 - val_loss: 1.4957 - val_accuracy: 0.5601\n",
            "Epoch 47/1000\n",
            "313/313 [==============================] - 16s 52ms/step - loss: 1.4282 - accuracy: 0.5825 - val_loss: 1.5144 - val_accuracy: 0.5524\n",
            "Epoch 48/1000\n",
            "313/313 [==============================] - 15s 49ms/step - loss: 1.4123 - accuracy: 0.5893 - val_loss: 1.5063 - val_accuracy: 0.5505\n",
            "Epoch 49/1000\n",
            "313/313 [==============================] - 15s 49ms/step - loss: 1.4128 - accuracy: 0.5891 - val_loss: 1.4855 - val_accuracy: 0.5639\n",
            "Epoch 50/1000\n",
            "313/313 [==============================] - 16s 50ms/step - loss: 1.4059 - accuracy: 0.5899 - val_loss: 1.5070 - val_accuracy: 0.5524\n",
            "Epoch 51/1000\n",
            "313/313 [==============================] - 16s 52ms/step - loss: 1.4028 - accuracy: 0.5911 - val_loss: 1.4952 - val_accuracy: 0.5608\n",
            "Epoch 52/1000\n",
            "313/313 [==============================] - 15s 49ms/step - loss: 1.4058 - accuracy: 0.5925 - val_loss: 1.5161 - val_accuracy: 0.5509\n",
            "Epoch 53/1000\n",
            "313/313 [==============================] - 15s 49ms/step - loss: 1.3948 - accuracy: 0.5973 - val_loss: 1.4866 - val_accuracy: 0.5579\n",
            "Epoch 54/1000\n",
            "313/313 [==============================] - 16s 50ms/step - loss: 1.3906 - accuracy: 0.5980 - val_loss: 1.5084 - val_accuracy: 0.5506\n",
            "Epoch 55/1000\n",
            "313/313 [==============================] - 16s 52ms/step - loss: 1.3852 - accuracy: 0.6012 - val_loss: 1.5059 - val_accuracy: 0.5580\n",
            "Epoch 56/1000\n",
            "313/313 [==============================] - 15s 49ms/step - loss: 1.3860 - accuracy: 0.5989 - val_loss: 1.4978 - val_accuracy: 0.5508\n",
            "Epoch 57/1000\n",
            "313/313 [==============================] - 15s 49ms/step - loss: 1.3846 - accuracy: 0.6013 - val_loss: 1.5115 - val_accuracy: 0.5549\n",
            "Epoch 58/1000\n",
            "313/313 [==============================] - 16s 50ms/step - loss: 1.3777 - accuracy: 0.6025 - val_loss: 1.5078 - val_accuracy: 0.5560\n",
            "Epoch 59/1000\n",
            "313/313 [==============================] - 16s 52ms/step - loss: 1.3673 - accuracy: 0.6063 - val_loss: 1.5025 - val_accuracy: 0.5594\n",
            "Epoch 60/1000\n",
            "313/313 [==============================] - 16s 50ms/step - loss: 1.3634 - accuracy: 0.6079 - val_loss: 1.5130 - val_accuracy: 0.5538\n",
            "Epoch 61/1000\n",
            "313/313 [==============================] - 16s 50ms/step - loss: 1.3636 - accuracy: 0.6105 - val_loss: 1.5095 - val_accuracy: 0.5581\n",
            "Epoch 62/1000\n",
            "313/313 [==============================] - 16s 52ms/step - loss: 1.3597 - accuracy: 0.6104 - val_loss: 1.5128 - val_accuracy: 0.5548\n",
            "Epoch 63/1000\n",
            "313/313 [==============================] - 17s 54ms/step - loss: 1.3445 - accuracy: 0.6151 - val_loss: 1.5101 - val_accuracy: 0.5528\n",
            "Epoch 64/1000\n",
            "313/313 [==============================] - 16s 51ms/step - loss: 1.3524 - accuracy: 0.6157 - val_loss: 1.5049 - val_accuracy: 0.5517\n"
          ]
        }
      ]
    },
    {
      "cell_type": "markdown",
      "source": [
        "# 3. Evaluation on test data and inference\n",
        "At this point, we will perform a basic evaluation and inference. With the model.evaluate function, the same metrics are calculated, that were used during training:"
      ],
      "metadata": {
        "id": "2FtKp-a2-A9m"
      }
    },
    {
      "cell_type": "code",
      "source": [
        "print(model.evaluate(X_test, Y_test))"
      ],
      "metadata": {
        "id": "I3_9wgDREUna",
        "colab": {
          "base_uri": "https://localhost:8080/"
        },
        "outputId": "c79d5451-fd54-4374-d95f-4b14c4715006"
      },
      "execution_count": null,
      "outputs": [
        {
          "output_type": "stream",
          "name": "stdout",
          "text": [
            "313/313 [==============================] - 2s 7ms/step - loss: 1.4842 - accuracy: 0.5560\n",
            "[1.4842088222503662, 0.5559999942779541]\n"
          ]
        }
      ]
    },
    {
      "cell_type": "markdown",
      "source": [
        "we would like to see similar values, as in the validation set. If those are close to each other, then the generalization ability of the model is good (in case of an independent test-set)."
      ],
      "metadata": {
        "id": "ECHguBFtGL7f"
      }
    },
    {
      "cell_type": "markdown",
      "source": [
        "## 3.1. Exercise\n",
        "Predict the class of the first 10 elements in the test set, and compare the predicted values with the actual, target values in the test set. Hints:\n",
        "* you can use [model.predict](https://www.activestate.com/resources/quick-reads/how-to-use-a-model-to-do-predictions-with-keras/) for prediction\n",
        "* from the output you can select the largest value with the [argmax() function of Numpy](https://stackoverflow.com/questions/62358642/convert-one-hot-encoding-back-to-number-label). As there are multiple values, you have to call it with axis=1 parameter.\n",
        "* it is enought to compare the predictions and the targets by printing the values out and inspecting them."
      ],
      "metadata": {
        "id": "0Io4zYJeHjz6"
      }
    },
    {
      "cell_type": "code",
      "source": [
        "preds = model.predict(X_test[:10])\n",
        "preds_dense = np.argmax(preds, axis = 1)"
      ],
      "metadata": {
        "id": "XEEyU7exILqF",
        "colab": {
          "base_uri": "https://localhost:8080/"
        },
        "outputId": "915a20da-045c-4b87-c39a-501d9b53e855"
      },
      "execution_count": null,
      "outputs": [
        {
          "output_type": "stream",
          "name": "stdout",
          "text": [
            "1/1 [==============================] - 0s 178ms/step\n"
          ]
        }
      ]
    },
    {
      "cell_type": "markdown",
      "source": [
        "Before comparision, you have to convert back the one-hot encoded target values the same way, as you converted the output of the neural network to class values with argmax() function."
      ],
      "metadata": {
        "id": "seZTEFI-I5cZ"
      }
    },
    {
      "cell_type": "code",
      "source": [
        "print(\"Target labels:\", np.argmax(Y_test[:10],axis=1))\n",
        "print(\"Predicted labels:\", preds_dense)"
      ],
      "metadata": {
        "id": "PHLvoMuIIkJ6",
        "colab": {
          "base_uri": "https://localhost:8080/"
        },
        "outputId": "6cc917ca-413d-45d3-e390-5ff4df973465"
      },
      "execution_count": null,
      "outputs": [
        {
          "output_type": "stream",
          "name": "stdout",
          "text": [
            "Target labels: [3 8 8 0 6 6 1 6 3 1]\n",
            "Predicted labels: [3 9 0 0 4 6 1 6 3 1]\n"
          ]
        }
      ]
    }
  ]
}