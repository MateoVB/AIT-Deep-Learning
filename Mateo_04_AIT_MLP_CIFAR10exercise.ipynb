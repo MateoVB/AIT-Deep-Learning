{
  "nbformat": 4,
  "nbformat_minor": 0,
  "metadata": {
    "anaconda-cloud": {},
    "kernelspec": {
      "display_name": "Python 3",
      "language": "python",
      "name": "python3"
    },
    "language_info": {
      "codemirror_mode": {
        "name": "ipython",
        "version": 3
      },
      "file_extension": ".py",
      "mimetype": "text/x-python",
      "name": "python",
      "nbconvert_exporter": "python",
      "pygments_lexer": "ipython3",
      "version": "3.6.6"
    },
    "colab": {
      "provenance": [],
      "include_colab_link": true
    },
    "accelerator": "GPU"
  },
  "cells": [
    {
      "cell_type": "markdown",
      "metadata": {
        "id": "view-in-github",
        "colab_type": "text"
      },
      "source": [
        "<a href=\"https://colab.research.google.com/github/MateoVB/AIT-Deep-Learning/blob/main/Mateo_04_AIT_MLP_CIFAR10exercise.ipynb\" target=\"_parent\"><img src=\"https://colab.research.google.com/assets/colab-badge.svg\" alt=\"Open In Colab\"/></a>"
      ]
    },
    {
      "cell_type": "markdown",
      "metadata": {
        "id": "cW-EyI5Lxpqi"
      },
      "source": [
        "# Copyright\n",
        "\n",
        "<PRE>\n",
        "Copyright (c) 2024 Bálint Gyires-Tóth - All Rights Reserved\n",
        "You may use and modify this code for research and development purpuses.\n",
        "Using this code for educational purposes (self-paced or instructor led) without the permission of the author is prohibited.\n",
        "</PRE>"
      ]
    },
    {
      "cell_type": "markdown",
      "source": [
        "# Example of data exploration, modeling, regulartion and prediction\n",
        "Our exercise today involves loading a standard dataset using TensorFlow Keras API, exploring the data, building a simple neural network, and evaluating the effects of basic methods (activation functions, regularization, weight initialization, etc.). We then perform predictions on the test set and inspect the results."
      ],
      "metadata": {
        "id": "3EX4cCa4WKJu"
      }
    },
    {
      "cell_type": "markdown",
      "source": [
        "# 1. Data\n",
        "The dataset we will use is the well-known CIFAR10 (Canadian Institute For Advanced Research). Explore the details on the Keras website first: https://keras.io/api/datasets/cifar10/\n",
        "\n",
        "After you explored the basic features of the data, let's load it into the memory and explore the shapes:"
      ],
      "metadata": {
        "id": "yY9fztIeWIKt"
      }
    },
    {
      "cell_type": "code",
      "source": [
        "from tensorflow.keras.datasets import cifar10\n",
        "from tensorflow.keras.utils import to_categorical\n",
        "import numpy as np"
      ],
      "metadata": {
        "id": "giRZKTjzX_7l"
      },
      "execution_count": 60,
      "outputs": []
    },
    {
      "cell_type": "code",
      "source": [
        "# Load data and assign to variables to use\n",
        "(X_train, Y_train), (X_test, Y_test) = cifar10.load_data()"
      ],
      "metadata": {
        "id": "bez7q0eiWQCK"
      },
      "execution_count": 61,
      "outputs": []
    },
    {
      "cell_type": "code",
      "source": [
        "# Print shapes of data where .shape = (#data, dim1, dim2, dim3, etc.)\n",
        "print(X_train.shape)\n",
        "print(X_test.shape)\n",
        "print(Y_train.shape)\n",
        "print(Y_test.shape)"
      ],
      "metadata": {
        "id": "2tJoRq5wXywi",
        "colab": {
          "base_uri": "https://localhost:8080/"
        },
        "outputId": "7dfe2bf5-9584-48c9-cb33-13c3fb489ec0"
      },
      "execution_count": 62,
      "outputs": [
        {
          "output_type": "stream",
          "name": "stdout",
          "text": [
            "(50000, 32, 32, 3)\n",
            "(10000, 32, 32, 3)\n",
            "(50000, 1)\n",
            "(10000, 1)\n"
          ]
        }
      ]
    },
    {
      "cell_type": "markdown",
      "source": [
        "## 1.1. Exercise\n",
        "Display the first ten images of the training data. Hints:\n",
        "* Axis 0 refers to the separate images, e.g. X_train[0]\n",
        "* You can use the [Matplotlib Pyplot imshow function](https://matplotlib.org/stable/api/_as_gen/matplotlib.pyplot.imshow.html) for displaying the image. Just don't forget to import Plotly first!\n",
        "* A corresponding example, but you have to modify the code for your purpose: https://stackoverflow.com/questions/46615554/how-to-display-multiple-images-in-one-figure-correctly"
      ],
      "metadata": {
        "id": "zTCSGFyDlNvf"
      }
    },
    {
      "cell_type": "code",
      "source": [
        "# Import matplot to plot\n",
        "import matplotlib.pyplot as plt\n",
        "\n",
        "# Resize area of plot\n",
        "fig = plt.figure(figsize=(10, 5))\n",
        "\n",
        "# Plotting dimensions\n",
        "columns = 5\n",
        "rows = 2\n",
        "\n",
        "# ax enables access to manipulate each of subplots\n",
        "ax = []\n",
        "\n",
        "for i in range(columns*rows):\n",
        "    # Create subplot and append to ax\n",
        "    ax.append(fig.add_subplot(rows, columns, i+1))\n",
        "    # Set title\n",
        "    ax[-1].set_title(\"Image \"+str(i+1))\n",
        "    plt.imshow(X_train[i])\n",
        "# Render plot\n",
        "plt.show()"
      ],
      "metadata": {
        "id": "hIQhHTppmBdO",
        "colab": {
          "base_uri": "https://localhost:8080/",
          "height": 425
        },
        "outputId": "6b4a70e2-8a89-4b6b-ed07-9daf65258dde"
      },
      "execution_count": 63,
      "outputs": [
        {
          "output_type": "display_data",
          "data": {
            "text/plain": [
              "<Figure size 1000x500 with 10 Axes>"
            ],
            "image/png": "[encoded data removed]"
          },
          "metadata": {}
        }
      ]
    },
    {
      "cell_type": "markdown",
      "source": [
        "Print the corresponding labels of the displayed images from the target variable (Y_train):"
      ],
      "metadata": {
        "id": "FAQkUWlmm-bc"
      }
    },
    {
      "cell_type": "code",
      "source": [
        "# Print the first 10 labels from Y_train\n",
        "print(Y_train[0: 10])"
      ],
      "metadata": {
        "colab": {
          "base_uri": "https://localhost:8080/"
        },
        "id": "TaTE500DfSZA",
        "outputId": "d90176ae-7ad0-495a-8df8-5d685f1e785c"
      },
      "execution_count": 64,
      "outputs": [
        {
          "output_type": "stream",
          "name": "stdout",
          "text": [
            "[[6]\n",
            " [9]\n",
            " [9]\n",
            " [4]\n",
            " [1]\n",
            " [1]\n",
            " [2]\n",
            " [7]\n",
            " [8]\n",
            " [3]]\n"
          ]
        }
      ]
    },
    {
      "cell_type": "markdown",
      "source": [
        "## 1.2. Exercise\n",
        "We will train a Multi-Layer Perceptron (MLP), which requires a 2 dimensional input: 0th axis refers to the datapoints (i.e. images), the 1th dimens to the input. As images are 3 dimensional (width, height, color channels), you have to reshape the images into vectors. We also call this flattening.\n",
        "\n",
        "In order to do so, calculate the size of the equivalent 1D vector of the image:"
      ],
      "metadata": {
        "id": "VX24g5FstsRU"
      }
    },
    {
      "cell_type": "code",
      "source": [
        "# To make images in X_train transform from 3D to 1D array\n",
        "# we will multiply X_train's dimesions values\n",
        "flattened_dim = X_train.shape[1] * X_train.shape[2] * X_train.shape[3]\n",
        "# Verify\n",
        "print (X_train.shape)\n",
        "print (flattened_dim)"
      ],
      "metadata": {
        "id": "hdoMyxHzuXZG",
        "colab": {
          "base_uri": "https://localhost:8080/"
        },
        "outputId": "d1894562-6a33-43f9-c52e-b6270672b308"
      },
      "execution_count": 65,
      "outputs": [
        {
          "output_type": "stream",
          "name": "stdout",
          "text": [
            "(50000, 32, 32, 3)\n",
            "3072\n"
          ]
        }
      ]
    },
    {
      "cell_type": "markdown",
      "source": [
        "After you calculated it, we can reshape the images, and covert the integer arrays into float arrays -- which are needed for the neural networks as input. Hint:\n",
        "* in the [reshape() function of Numpy](https://www.w3schools.com/python/numpy/numpy_array_reshape.asp) you can use -1 for one axis, to automatically calculate that value."
      ],
      "metadata": {
        "id": "WbqXJUSFubeC"
      }
    },
    {
      "cell_type": "code",
      "source": [
        "# Reshape 3D tensors to 2D tensors\n",
        "# We can use -1 when converting a multidimensional array into a 1D array\n",
        "X_train = X_train.reshape(-1, flattened_dim)\n",
        "X_test = X_test.reshape(-1, flattened_dim)\n",
        "\n",
        "# It is in int8 format, the neural network requires float32\n",
        "X_train = X_train.astype('float32')\n",
        "X_test = X_test.astype('float32')\n",
        "\n",
        "# Verify\n",
        "print(X_train)\n",
        "print(X_train.shape)"
      ],
      "metadata": {
        "id": "vukOcBM0XzSj",
        "colab": {
          "base_uri": "https://localhost:8080/"
        },
        "outputId": "50b951ad-52bd-4426-92a6-a32e4185742f"
      },
      "execution_count": 66,
      "outputs": [
        {
          "output_type": "stream",
          "name": "stdout",
          "text": [
            "[[ 59.  62.  63. ... 123.  92.  72.]\n",
            " [154. 177. 187. ... 143. 133. 144.]\n",
            " [255. 255. 255. ...  80.  86.  84.]\n",
            " ...\n",
            " [ 35. 178. 235. ...  12.  31.  50.]\n",
            " [189. 211. 240. ... 195. 190. 171.]\n",
            " [229. 229. 239. ... 163. 163. 161.]]\n",
            "(50000, 3072)\n"
          ]
        }
      ]
    },
    {
      "cell_type": "markdown",
      "source": [
        "## 1.3. Exercise\n",
        "As the next step, let's split the training data into training and validation data. 80% of the original training data should be the final training data, and 20% the validation.\n",
        "You should use Numpy indexing to select the first 80% of X_train as final X_train, and the last 20% as X_valid. Hints:\n",
        "* https://datascienceparichay.com/article/numpy-array-first-n-rows/\n",
        "* https://datascienceparichay.com/article/numpy-array-last-n-rows/"
      ],
      "metadata": {
        "id": "DO79AdIdvVfD"
      }
    },
    {
      "cell_type": "code",
      "source": [
        "# Save 80% for training, 20% for validation\n",
        "train_ratio  = 0.8\n",
        "train_length = len(X_train) # length of the training data\n",
        "print(len(X_train)) # should be 50000\n",
        "\n",
        "# Where to split the training and validation data\n",
        "train_split  = int(train_length * train_ratio)\n",
        "\n",
        "# Create X_valid, Y_Valid, and modify X_train,Y_train\n",
        "X_valid, Y_valid = X_train[train_split:], Y_train[train_split:]\n",
        "X_train, Y_train = X_train[0:train_split], Y_train[0:train_split]\n",
        "\n",
        "print(X_train.shape)\n",
        "print(X_valid.shape)"
      ],
      "metadata": {
        "id": "mRwuWxxIxLgN",
        "colab": {
          "base_uri": "https://localhost:8080/"
        },
        "outputId": "889e7460-e051-4a42-b8ac-fe016e09d6b1"
      },
      "execution_count": 67,
      "outputs": [
        {
          "output_type": "stream",
          "name": "stdout",
          "text": [
            "50000\n",
            "(40000, 3072)\n",
            "(10000, 3072)\n"
          ]
        }
      ]
    },
    {
      "cell_type": "markdown",
      "source": [
        "## 1.4. Exercise\n",
        "As the last step of input data preparation, the data should be standardized. Calculate the mean and variance of the training data (elementvise -- so for each value of the flattened image you should get a mean and variance for the training data along 0th axis). Hint:\n",
        "* https://stackoverflow.com/questions/70626231/how-to-calculate-mean-variance-standard-deviation-per-index-of-array"
      ],
      "metadata": {
        "id": "z05y_QWDxWER"
      }
    },
    {
      "cell_type": "code",
      "source": [
        "mean = np.mean(X_train, axis = 0)\n",
        "std  = np.std(X_train, axis = 0)"
      ],
      "metadata": {
        "id": "TSZbvWCBx8Ea"
      },
      "execution_count": 68,
      "outputs": []
    },
    {
      "cell_type": "markdown",
      "source": [
        "Next, use the resulting values to standardize the training, validation and test data by substracting the mean and dividing the result with the standard deviation."
      ],
      "metadata": {
        "id": "6WRHKkkjyN1S"
      }
    },
    {
      "cell_type": "code",
      "source": [
        "X_train = (X_train - mean) / std\n",
        "X_valid = (X_valid - mean) / std\n",
        "X_test  = (X_test - mean) / std"
      ],
      "metadata": {
        "id": "2ESLP1EIyB2J"
      },
      "execution_count": 69,
      "outputs": []
    },
    {
      "cell_type": "markdown",
      "source": [
        "## 1.5. Exercise\n",
        "And as the last step, convert the dense representation of the classes (i.e. 0,1,2,3...9) to one-hot encoding (0 = [1 0 0 0 0 0 0 0 0 0], 1 = [0 1 0 0 0 0 0 0 0 0] ... 9 = [0 0 0 0 0 0 0 0 0 1]). To do this, first, calculate the number of unique elements in the target training data. Hints:\n",
        "* use the [unique() function](https://numpy.org/doc/stable/reference/generated/numpy.unique.html) of Numpy to list the unique elements\n",
        "* you can count the number of elements in a list with the [len() function](https://www.w3schools.com/python/ref_func_len.asp)"
      ],
      "metadata": {
        "id": "ooHCnUin7r4o"
      }
    },
    {
      "cell_type": "code",
      "source": [
        "# Find how many unique labels of images exists\n",
        "nb_classes = len(np.unique(Y_train))\n",
        "print(len(np.unique(Y_train)))\n"
      ],
      "metadata": {
        "id": "i0LAO9cs8KEE",
        "colab": {
          "base_uri": "https://localhost:8080/"
        },
        "outputId": "52e57c00-a474-4a17-d49f-a982f8da1c97"
      },
      "execution_count": 71,
      "outputs": [
        {
          "output_type": "stream",
          "name": "stdout",
          "text": [
            "10\n"
          ]
        }
      ]
    },
    {
      "cell_type": "markdown",
      "source": [
        "Doublecheck, if the same number of classes exists in the validation and test target data:"
      ],
      "metadata": {
        "id": "BvM6XhGe8JU9"
      }
    },
    {
      "cell_type": "code",
      "source": [
        "print(\"Validation data has the same number of classes, as the training data:\", nb_classes == len(np.unique(Y_valid)))\n",
        "print(\"Test data has the same number of classes, as the training data:\", nb_classes == len(np.unique(Y_test)))"
      ],
      "metadata": {
        "id": "eZFNSsyx_Py2",
        "colab": {
          "base_uri": "https://localhost:8080/"
        },
        "outputId": "96a805c7-099d-425c-ea89-42a5217f23bf"
      },
      "execution_count": 72,
      "outputs": [
        {
          "output_type": "stream",
          "name": "stdout",
          "text": [
            "Validation data has the same number of classes, as the training data: True\n",
            "Test data has the same number of classes, as the training data: True\n"
          ]
        }
      ]
    },
    {
      "cell_type": "markdown",
      "source": [
        "And convert the dense representation into one-hot encoding. Hint:\n",
        "* use the [to_categorical function](https://www.tensorflow.org/api_docs/python/tf/keras/utils/to_categorical) with the calculated nb_classes\n"
      ],
      "metadata": {
        "id": "mJM-iBmR8dLe"
      }
    },
    {
      "cell_type": "code",
      "source": [
        "# Converting dense representation of classes 0-9 to one-hot encoding [1 0 0 0 0 0 0 0 0 0]\n",
        "Y_train = to_categorical(Y_train,nb_classes)\n",
        "Y_valid = to_categorical(Y_valid,nb_classes)\n",
        "Y_test  = to_categorical(Y_test,nb_classes)"
      ],
      "metadata": {
        "id": "xwZ4OJ6I8lba"
      },
      "execution_count": 73,
      "outputs": []
    },
    {
      "cell_type": "markdown",
      "source": [
        "## Final check of data preparation\n",
        "Now, lets check the shapes and mean and standard deviation of the training, validation and test data."
      ],
      "metadata": {
        "id": "LshN2OSsv3TZ"
      }
    },
    {
      "cell_type": "code",
      "source": [
        "print(\"Shapes of the training, validation and test input data (X):\", X_train.shape, X_valid.shape, X_test.shape)\n",
        "print(\"Shapes of the training, validation and test output data (Y):\", Y_train.shape, Y_valid.shape, Y_test.shape)\n",
        "print(\"Mean values of the training, validation and test input data:\", X_train.mean(), X_valid.mean(), X_test.mean())\n",
        "print(\"Standard deviation of the training, validation and test input data:\", X_train.std(), X_valid.std(), X_test.std())"
      ],
      "metadata": {
        "id": "O_jdJVcvX0vi",
        "colab": {
          "base_uri": "https://localhost:8080/"
        },
        "outputId": "655ce853-37c0-4f9f-b169-fef7484b85e2"
      },
      "execution_count": 75,
      "outputs": [
        {
          "output_type": "stream",
          "name": "stdout",
          "text": [
            "Shapes of the training, validation and test input data (X): (40000, 3072) (10000, 3072) (10000, 3072)\n",
            "Shapes of the training, validation and test output data (Y): (40000, 10) (10000, 10) (10000, 10)\n",
            "Mean values of the training, validation and test input data: -2.4725992e-09 0.0023437182 0.013331188\n",
            "Standard deviation of the training, validation and test input data: 1.0000038 0.99656224 0.9978297\n"
          ]
        }
      ]
    },
    {
      "cell_type": "markdown",
      "source": [
        "Don't worry, if the mean and standard deviation of the validation and test data are not exactly 0 and 1, but these might be very mear to it (e.g. 0.01 mean, 0.99 variance)."
      ],
      "metadata": {
        "id": "5GtAOOoezmZY"
      }
    },
    {
      "cell_type": "markdown",
      "metadata": {
        "id": "cJ14oyZExpqj"
      },
      "source": [
        "# 2. Training"
      ]
    },
    {
      "cell_type": "markdown",
      "metadata": {
        "id": "s4ZXYRMBxpql"
      },
      "source": [
        "Let us begin with a simple example of creating a small neural network without regularization and training it with actual data. The purpose of this is to provide you with an example as to how to proceed with the next exercise."
      ]
    },
    {
      "cell_type": "code",
      "source": [
        "# imports\n",
        "import numpy as np\n",
        "import matplotlib.pyplot as plt\n",
        "from tensorflow.keras.models import Sequential\n",
        "from tensorflow.keras.layers import Dense, Embedding, Flatten, Dropout\n",
        "from tensorflow.keras.initializers import HeNormal\n",
        "from tensorflow.keras.callbacks import EarlyStopping"
      ],
      "metadata": {
        "id": "6-8Q6ll7ZDgq"
      },
      "execution_count": 76,
      "outputs": []
    },
    {
      "cell_type": "code",
      "source": [
        "# model definition\n",
        "model = Sequential()\n",
        "model.add(Dense(128, activation='tanh', input_shape=(flattened_dim,)))\n",
        "model.add(Dense(128, activation='tanh'))\n",
        "model.add(Dense(nb_classes, activation='softmax'))\n",
        "\n",
        "# loss function and optimizer\n",
        "model.compile(loss='categorical_crossentropy', optimizer='adam', metrics=['accuracy'])"
      ],
      "metadata": {
        "id": "pke6w3CD8DHp"
      },
      "execution_count": 77,
      "outputs": []
    },
    {
      "cell_type": "code",
      "metadata": {
        "id": "CZbOR76QxprC",
        "colab": {
          "base_uri": "https://localhost:8080/"
        },
        "outputId": "4f6ddcb1-0323-4625-f05d-fedf7046b144"
      },
      "source": [
        "# training\n",
        "network_history = model.fit(X_train, Y_train,\n",
        "                            validation_data=(X_valid,Y_valid),\n",
        "                            batch_size=128,\n",
        "                            epochs=40,\n",
        "                            verbose=1)"
      ],
      "execution_count": 78,
      "outputs": [
        {
          "output_type": "stream",
          "name": "stdout",
          "text": [
            "Epoch 1/40\n",
            "313/313 [==============================] - 4s 6ms/step - loss: 1.8162 - accuracy: 0.3661 - val_loss: 1.7617 - val_accuracy: 0.3906\n",
            "Epoch 2/40\n",
            "313/313 [==============================] - 1s 4ms/step - loss: 1.6923 - accuracy: 0.4129 - val_loss: 1.7344 - val_accuracy: 0.3951\n",
            "Epoch 3/40\n",
            "313/313 [==============================] - 2s 5ms/step - loss: 1.6374 - accuracy: 0.4315 - val_loss: 1.6933 - val_accuracy: 0.4139\n",
            "Epoch 4/40\n",
            "313/313 [==============================] - 2s 5ms/step - loss: 1.5983 - accuracy: 0.4451 - val_loss: 1.6825 - val_accuracy: 0.4119\n",
            "Epoch 5/40\n",
            "313/313 [==============================] - 1s 4ms/step - loss: 1.5680 - accuracy: 0.4564 - val_loss: 1.6728 - val_accuracy: 0.4216\n",
            "Epoch 6/40\n",
            "313/313 [==============================] - 1s 4ms/step - loss: 1.5352 - accuracy: 0.4674 - val_loss: 1.6533 - val_accuracy: 0.4346\n",
            "Epoch 7/40\n",
            "313/313 [==============================] - 1s 5ms/step - loss: 1.5017 - accuracy: 0.4798 - val_loss: 1.6476 - val_accuracy: 0.4340\n",
            "Epoch 8/40\n",
            "313/313 [==============================] - 1s 4ms/step - loss: 1.4742 - accuracy: 0.4895 - val_loss: 1.6352 - val_accuracy: 0.4437\n",
            "Epoch 9/40\n",
            "313/313 [==============================] - 1s 5ms/step - loss: 1.4476 - accuracy: 0.4998 - val_loss: 1.6299 - val_accuracy: 0.4422\n",
            "Epoch 10/40\n",
            "313/313 [==============================] - 1s 4ms/step - loss: 1.4230 - accuracy: 0.5080 - val_loss: 1.6398 - val_accuracy: 0.4396\n",
            "Epoch 11/40\n",
            "313/313 [==============================] - 2s 5ms/step - loss: 1.4020 - accuracy: 0.5151 - val_loss: 1.6290 - val_accuracy: 0.4455\n",
            "Epoch 12/40\n",
            "313/313 [==============================] - 2s 6ms/step - loss: 1.3818 - accuracy: 0.5215 - val_loss: 1.6330 - val_accuracy: 0.4404\n",
            "Epoch 13/40\n",
            "313/313 [==============================] - 1s 4ms/step - loss: 1.3638 - accuracy: 0.5267 - val_loss: 1.6392 - val_accuracy: 0.4373\n",
            "Epoch 14/40\n",
            "313/313 [==============================] - 1s 5ms/step - loss: 1.3379 - accuracy: 0.5354 - val_loss: 1.6112 - val_accuracy: 0.4486\n",
            "Epoch 15/40\n",
            "313/313 [==============================] - 1s 5ms/step - loss: 1.3184 - accuracy: 0.5444 - val_loss: 1.6129 - val_accuracy: 0.4468\n",
            "Epoch 16/40\n",
            "313/313 [==============================] - 2s 5ms/step - loss: 1.2979 - accuracy: 0.5476 - val_loss: 1.6143 - val_accuracy: 0.4471\n",
            "Epoch 17/40\n",
            "313/313 [==============================] - 1s 4ms/step - loss: 1.2779 - accuracy: 0.5558 - val_loss: 1.6272 - val_accuracy: 0.4494\n",
            "Epoch 18/40\n",
            "313/313 [==============================] - 1s 4ms/step - loss: 1.2622 - accuracy: 0.5626 - val_loss: 1.6175 - val_accuracy: 0.4546\n",
            "Epoch 19/40\n",
            "313/313 [==============================] - 1s 4ms/step - loss: 1.2414 - accuracy: 0.5704 - val_loss: 1.6421 - val_accuracy: 0.4416\n",
            "Epoch 20/40\n",
            "313/313 [==============================] - 2s 6ms/step - loss: 1.2203 - accuracy: 0.5763 - val_loss: 1.6420 - val_accuracy: 0.4513\n",
            "Epoch 21/40\n",
            "313/313 [==============================] - 1s 4ms/step - loss: 1.1999 - accuracy: 0.5836 - val_loss: 1.6337 - val_accuracy: 0.4509\n",
            "Epoch 22/40\n",
            "313/313 [==============================] - 1s 4ms/step - loss: 1.1839 - accuracy: 0.5861 - val_loss: 1.6435 - val_accuracy: 0.4518\n",
            "Epoch 23/40\n",
            "313/313 [==============================] - 1s 4ms/step - loss: 1.1671 - accuracy: 0.5956 - val_loss: 1.6437 - val_accuracy: 0.4530\n",
            "Epoch 24/40\n",
            "313/313 [==============================] - 1s 4ms/step - loss: 1.1508 - accuracy: 0.5995 - val_loss: 1.6482 - val_accuracy: 0.4458\n",
            "Epoch 25/40\n",
            "313/313 [==============================] - 1s 4ms/step - loss: 1.1329 - accuracy: 0.6085 - val_loss: 1.6734 - val_accuracy: 0.4506\n",
            "Epoch 26/40\n",
            "313/313 [==============================] - 1s 4ms/step - loss: 1.1164 - accuracy: 0.6149 - val_loss: 1.6574 - val_accuracy: 0.4505\n",
            "Epoch 27/40\n",
            "313/313 [==============================] - 1s 4ms/step - loss: 1.1004 - accuracy: 0.6172 - val_loss: 1.6774 - val_accuracy: 0.4503\n",
            "Epoch 28/40\n",
            "313/313 [==============================] - 2s 5ms/step - loss: 1.0788 - accuracy: 0.6277 - val_loss: 1.7032 - val_accuracy: 0.4469\n",
            "Epoch 29/40\n",
            "313/313 [==============================] - 2s 5ms/step - loss: 1.0631 - accuracy: 0.6325 - val_loss: 1.6970 - val_accuracy: 0.4512\n",
            "Epoch 30/40\n",
            "313/313 [==============================] - 1s 4ms/step - loss: 1.0476 - accuracy: 0.6395 - val_loss: 1.7176 - val_accuracy: 0.4548\n",
            "Epoch 31/40\n",
            "313/313 [==============================] - 1s 4ms/step - loss: 1.0309 - accuracy: 0.6431 - val_loss: 1.7280 - val_accuracy: 0.4506\n",
            "Epoch 32/40\n",
            "313/313 [==============================] - 1s 4ms/step - loss: 1.0070 - accuracy: 0.6491 - val_loss: 1.7306 - val_accuracy: 0.4506\n",
            "Epoch 33/40\n",
            "313/313 [==============================] - 1s 4ms/step - loss: 0.9977 - accuracy: 0.6537 - val_loss: 1.7496 - val_accuracy: 0.4450\n",
            "Epoch 34/40\n",
            "313/313 [==============================] - 1s 5ms/step - loss: 0.9856 - accuracy: 0.6588 - val_loss: 1.7555 - val_accuracy: 0.4495\n",
            "Epoch 35/40\n",
            "313/313 [==============================] - 1s 4ms/step - loss: 0.9612 - accuracy: 0.6708 - val_loss: 1.7759 - val_accuracy: 0.4452\n",
            "Epoch 36/40\n",
            "313/313 [==============================] - 1s 4ms/step - loss: 0.9445 - accuracy: 0.6768 - val_loss: 1.7795 - val_accuracy: 0.4448\n",
            "Epoch 37/40\n",
            "313/313 [==============================] - 2s 5ms/step - loss: 0.9329 - accuracy: 0.6799 - val_loss: 1.7953 - val_accuracy: 0.4497\n",
            "Epoch 38/40\n",
            "313/313 [==============================] - 1s 5ms/step - loss: 0.9192 - accuracy: 0.6827 - val_loss: 1.8207 - val_accuracy: 0.4424\n",
            "Epoch 39/40\n",
            "313/313 [==============================] - 1s 4ms/step - loss: 0.9164 - accuracy: 0.6832 - val_loss: 1.8295 - val_accuracy: 0.4443\n",
            "Epoch 40/40\n",
            "313/313 [==============================] - 1s 4ms/step - loss: 0.8937 - accuracy: 0.6954 - val_loss: 1.8267 - val_accuracy: 0.4454\n"
          ]
        }
      ]
    },
    {
      "cell_type": "markdown",
      "metadata": {
        "id": "uFqhzV85xprJ"
      },
      "source": [
        "Let's plot the training and validation loss and accuracy curves:"
      ]
    },
    {
      "cell_type": "code",
      "metadata": {
        "id": "BYmXGkLCxprK",
        "colab": {
          "base_uri": "https://localhost:8080/",
          "height": 880
        },
        "outputId": "40ed0ea2-48a0-433e-a63d-b3326749ea02"
      },
      "source": [
        "def plot_history(network_history):\n",
        "    plt.figure()\n",
        "    plt.xlabel('Epochs')\n",
        "    plt.ylabel('Loss')\n",
        "    plt.plot(network_history.history['loss'])\n",
        "    plt.plot(network_history.history['val_loss'])\n",
        "    plt.legend(['Training', 'Validation'])\n",
        "\n",
        "    plt.figure()\n",
        "    plt.xlabel('Epochs')\n",
        "    plt.ylabel('Accuracy')\n",
        "    plt.plot(network_history.history['accuracy'])\n",
        "    plt.plot(network_history.history['val_accuracy'])\n",
        "    plt.legend(['Training', 'Validation'], loc='lower right')\n",
        "    plt.show()\n",
        "\n",
        "plot_history(network_history)"
      ],
      "execution_count": 79,
      "outputs": [
        {
          "output_type": "display_data",
          "data": {
            "text/plain": [
              "<Figure size 640x480 with 1 Axes>"
            ],
            "image/png": "[encoded data removed]"
          },
          "metadata": {}
        },
        {
          "output_type": "display_data",
          "data": {
            "text/plain": [
              "<Figure size 640x480 with 1 Axes>"
            ],
            "image/png": "[encoded data removed]"
          },
          "metadata": {}
        }
      ]
    },
    {
      "cell_type": "markdown",
      "source": [
        "What do you think? Does it overfit?\n",
        "\n",
        "Yes, it does overfit."
      ],
      "metadata": {
        "id": "tgG7QeXF-dx6"
      }
    },
    {
      "cell_type": "markdown",
      "metadata": {
        "id": "_Q9rIeBBxprO"
      },
      "source": [
        "# Inspecting the model"
      ]
    },
    {
      "cell_type": "code",
      "metadata": {
        "id": "6r2AmmoMxprP",
        "colab": {
          "base_uri": "https://localhost:8080/"
        },
        "outputId": "e180cc8d-40d9-4152-ca64-f283af8d7bde"
      },
      "source": [
        "model.summary()"
      ],
      "execution_count": 80,
      "outputs": [
        {
          "output_type": "stream",
          "name": "stdout",
          "text": [
            "Model: \"sequential\"\n",
            "_________________________________________________________________\n",
            " Layer (type)                Output Shape              Param #   \n",
            "=================================================================\n",
            " dense (Dense)               (None, 128)               393344    \n",
            "                                                                 \n",
            " dense_1 (Dense)             (None, 128)               16512     \n",
            "                                                                 \n",
            " dense_2 (Dense)             (None, 10)                1290      \n",
            "                                                                 \n",
            "=================================================================\n",
            "Total params: 411146 (1.57 MB)\n",
            "Trainable params: 411146 (1.57 MB)\n",
            "Non-trainable params: 0 (0.00 Byte)\n",
            "_________________________________________________________________\n"
          ]
        }
      ]
    },
    {
      "cell_type": "code",
      "metadata": {
        "id": "D3-bVDVuxprS",
        "colab": {
          "base_uri": "https://localhost:8080/"
        },
        "outputId": "f4c7acfe-8565-467f-d438-2740d3a86267"
      },
      "source": [
        "print('Input: ', model.input)"
      ],
      "execution_count": 81,
      "outputs": [
        {
          "output_type": "stream",
          "name": "stdout",
          "text": [
            "Input:  KerasTensor(type_spec=TensorSpec(shape=(None, 3072), dtype=tf.float32, name='dense_input'), name='dense_input', description=\"created by layer 'dense_input'\")\n"
          ]
        }
      ]
    },
    {
      "cell_type": "code",
      "metadata": {
        "id": "Da2OJ3DmxprX",
        "colab": {
          "base_uri": "https://localhost:8080/"
        },
        "outputId": "7e82dee7-4da5-40f0-a45e-613e196d80c0"
      },
      "source": [
        "print('Layers:\\n')\n",
        "for layer in model.layers:\n",
        "    print(\"Layer's name: \", layer.name, ', trainable: ', layer.trainable)\n",
        "    print(layer.get_config(),'\\n')"
      ],
      "execution_count": 82,
      "outputs": [
        {
          "output_type": "stream",
          "name": "stdout",
          "text": [
            "Layers:\n",
            "\n",
            "Layer's name:  dense , trainable:  True\n",
            "{'name': 'dense', 'trainable': True, 'dtype': 'float32', 'batch_input_shape': (None, 3072), 'units': 128, 'activation': 'tanh', 'use_bias': True, 'kernel_initializer': {'module': 'keras.initializers', 'class_name': 'GlorotUniform', 'config': {'seed': None}, 'registered_name': None}, 'bias_initializer': {'module': 'keras.initializers', 'class_name': 'Zeros', 'config': {}, 'registered_name': None}, 'kernel_regularizer': None, 'bias_regularizer': None, 'activity_regularizer': None, 'kernel_constraint': None, 'bias_constraint': None} \n",
            "\n",
            "Layer's name:  dense_1 , trainable:  True\n",
            "{'name': 'dense_1', 'trainable': True, 'dtype': 'float32', 'units': 128, 'activation': 'tanh', 'use_bias': True, 'kernel_initializer': {'module': 'keras.initializers', 'class_name': 'GlorotUniform', 'config': {'seed': None}, 'registered_name': None}, 'bias_initializer': {'module': 'keras.initializers', 'class_name': 'Zeros', 'config': {}, 'registered_name': None}, 'kernel_regularizer': None, 'bias_regularizer': None, 'activity_regularizer': None, 'kernel_constraint': None, 'bias_constraint': None} \n",
            "\n",
            "Layer's name:  dense_2 , trainable:  True\n",
            "{'name': 'dense_2', 'trainable': True, 'dtype': 'float32', 'units': 10, 'activation': 'softmax', 'use_bias': True, 'kernel_initializer': {'module': 'keras.initializers', 'class_name': 'GlorotUniform', 'config': {'seed': None}, 'registered_name': None}, 'bias_initializer': {'module': 'keras.initializers', 'class_name': 'Zeros', 'config': {}, 'registered_name': None}, 'kernel_regularizer': None, 'bias_regularizer': None, 'activity_regularizer': None, 'kernel_constraint': None, 'bias_constraint': None} \n",
            "\n"
          ]
        }
      ]
    },
    {
      "cell_type": "code",
      "metadata": {
        "id": "AtVX3M3lxprc",
        "colab": {
          "base_uri": "https://localhost:8080/"
        },
        "outputId": "b1da2904-8476-4d91-bf76-702df8ce27db"
      },
      "source": [
        "print('Output: ', model.output)"
      ],
      "execution_count": 83,
      "outputs": [
        {
          "output_type": "stream",
          "name": "stdout",
          "text": [
            "Output:  KerasTensor(type_spec=TensorSpec(shape=(None, 10), dtype=tf.float32, name=None), name='dense_2/Softmax:0', description=\"created by layer 'dense_2'\")\n"
          ]
        }
      ]
    },
    {
      "cell_type": "markdown",
      "source": [
        "## 2.1. Exercise\n",
        "Introduce [early stopping](https://www.tensorflow.org/api_docs/python/tf/keras/callbacks/EarlyStopping) and [dropout](https://www.tensorflow.org/api_docs/python/tf/keras/layers/Dropout) with a rate between 0.1..0.5. Tips:\n",
        "\n",
        "* Insert the dropout layer between the two Dense layers.\n",
        "* Set the patience of early stopping to 5.\n",
        "* Set the number of epochs to a very high number.\n",
        "* Don't forget to restore best weights after early stopping.\n",
        "* And also set early stopping to monitor validation accuracy (the default value is validation loss -- which is categorical crossentropy now).\n",
        "\n",
        "Compile and train the model. Attempt to increase the validation accuracy as much as possible by making changes to the dropout rate. Inspect the effects of the modifications."
      ],
      "metadata": {
        "id": "E-hHfs9qA_iO"
      }
    },
    {
      "cell_type": "code",
      "source": [
        "es = EarlyStopping(\n",
        "    monitor='val_accuracy',\n",
        "    patience=5,\n",
        "    restore_best_weights=True,\n",
        ")"
      ],
      "metadata": {
        "id": "NwXrPzOgEBG-"
      },
      "execution_count": 84,
      "outputs": []
    },
    {
      "cell_type": "code",
      "source": [
        "# model definition with dropout\n",
        "model = Sequential()\n",
        "model.add(Dense(128, activation='tanh', input_shape=(flattened_dim,)))\n",
        "model.add(Dropout(0.2))\n",
        "model.add(Dense(128, activation='tanh'))\n",
        "model.add(Dense(nb_classes, activation='softmax'))\n",
        "\n",
        "# loss function and optimizer\n",
        "model.compile(loss='categorical_crossentropy', optimizer='adam', metrics=['accuracy'])"
      ],
      "metadata": {
        "id": "7hZEGzj8GFwP"
      },
      "execution_count": 85,
      "outputs": []
    },
    {
      "cell_type": "code",
      "source": [
        "# training with early stopping\n",
        "network_history = model.fit(X_train, Y_train,\n",
        "                            validation_data=(X_valid,Y_valid),\n",
        "                            batch_size=128,\n",
        "                            epochs=100000,\n",
        "                            verbose=1,\n",
        "                            callbacks=[es])"
      ],
      "metadata": {
        "id": "GCG54R-vGGWj",
        "colab": {
          "base_uri": "https://localhost:8080/"
        },
        "outputId": "d1fbf616-5531-49d4-9b4a-9d05c309a044"
      },
      "execution_count": 86,
      "outputs": [
        {
          "output_type": "stream",
          "name": "stdout",
          "text": [
            "Epoch 1/100000\n",
            "313/313 [==============================] - 4s 6ms/step - loss: 1.8644 - accuracy: 0.3474 - val_loss: 1.7503 - val_accuracy: 0.3954\n",
            "Epoch 2/100000\n",
            "313/313 [==============================] - 2s 5ms/step - loss: 1.7441 - accuracy: 0.3901 - val_loss: 1.7263 - val_accuracy: 0.3978\n",
            "Epoch 3/100000\n",
            "313/313 [==============================] - 2s 6ms/step - loss: 1.7041 - accuracy: 0.4050 - val_loss: 1.7156 - val_accuracy: 0.4072\n",
            "Epoch 4/100000\n",
            "313/313 [==============================] - 2s 5ms/step - loss: 1.6671 - accuracy: 0.4193 - val_loss: 1.6859 - val_accuracy: 0.4161\n",
            "Epoch 5/100000\n",
            "313/313 [==============================] - 1s 4ms/step - loss: 1.6395 - accuracy: 0.4281 - val_loss: 1.6658 - val_accuracy: 0.4221\n",
            "Epoch 6/100000\n",
            "313/313 [==============================] - 1s 4ms/step - loss: 1.6187 - accuracy: 0.4369 - val_loss: 1.6473 - val_accuracy: 0.4264\n",
            "Epoch 7/100000\n",
            "313/313 [==============================] - 1s 4ms/step - loss: 1.5857 - accuracy: 0.4494 - val_loss: 1.6356 - val_accuracy: 0.4350\n",
            "Epoch 8/100000\n",
            "313/313 [==============================] - 2s 5ms/step - loss: 1.5746 - accuracy: 0.4504 - val_loss: 1.6403 - val_accuracy: 0.4234\n",
            "Epoch 9/100000\n",
            "313/313 [==============================] - 2s 5ms/step - loss: 1.5612 - accuracy: 0.4548 - val_loss: 1.6195 - val_accuracy: 0.4296\n",
            "Epoch 10/100000\n",
            "313/313 [==============================] - 2s 5ms/step - loss: 1.5379 - accuracy: 0.4613 - val_loss: 1.6163 - val_accuracy: 0.4343\n",
            "Epoch 11/100000\n",
            "313/313 [==============================] - 2s 6ms/step - loss: 1.5283 - accuracy: 0.4673 - val_loss: 1.6065 - val_accuracy: 0.4407\n",
            "Epoch 12/100000\n",
            "313/313 [==============================] - 2s 5ms/step - loss: 1.5116 - accuracy: 0.4729 - val_loss: 1.5956 - val_accuracy: 0.4402\n",
            "Epoch 13/100000\n",
            "313/313 [==============================] - 1s 4ms/step - loss: 1.4952 - accuracy: 0.4774 - val_loss: 1.5841 - val_accuracy: 0.4447\n",
            "Epoch 14/100000\n",
            "313/313 [==============================] - 1s 5ms/step - loss: 1.4749 - accuracy: 0.4860 - val_loss: 1.5763 - val_accuracy: 0.4496\n",
            "Epoch 15/100000\n",
            "313/313 [==============================] - 1s 5ms/step - loss: 1.4672 - accuracy: 0.4885 - val_loss: 1.5712 - val_accuracy: 0.4526\n",
            "Epoch 16/100000\n",
            "313/313 [==============================] - 2s 5ms/step - loss: 1.4603 - accuracy: 0.4891 - val_loss: 1.5640 - val_accuracy: 0.4552\n",
            "Epoch 17/100000\n",
            "313/313 [==============================] - 1s 5ms/step - loss: 1.4512 - accuracy: 0.4921 - val_loss: 1.5606 - val_accuracy: 0.4525\n",
            "Epoch 18/100000\n",
            "313/313 [==============================] - 2s 5ms/step - loss: 1.4322 - accuracy: 0.4967 - val_loss: 1.5616 - val_accuracy: 0.4567\n",
            "Epoch 19/100000\n",
            "313/313 [==============================] - 2s 6ms/step - loss: 1.4203 - accuracy: 0.5019 - val_loss: 1.5536 - val_accuracy: 0.4569\n",
            "Epoch 20/100000\n",
            "313/313 [==============================] - 2s 5ms/step - loss: 1.4103 - accuracy: 0.5041 - val_loss: 1.5550 - val_accuracy: 0.4587\n",
            "Epoch 21/100000\n",
            "313/313 [==============================] - 1s 5ms/step - loss: 1.3983 - accuracy: 0.5116 - val_loss: 1.5492 - val_accuracy: 0.4625\n",
            "Epoch 22/100000\n",
            "313/313 [==============================] - 1s 5ms/step - loss: 1.3903 - accuracy: 0.5114 - val_loss: 1.5417 - val_accuracy: 0.4655\n",
            "Epoch 23/100000\n",
            "313/313 [==============================] - 1s 4ms/step - loss: 1.3879 - accuracy: 0.5135 - val_loss: 1.5266 - val_accuracy: 0.4712\n",
            "Epoch 24/100000\n",
            "313/313 [==============================] - 1s 4ms/step - loss: 1.3777 - accuracy: 0.5156 - val_loss: 1.5393 - val_accuracy: 0.4648\n",
            "Epoch 25/100000\n",
            "313/313 [==============================] - 1s 4ms/step - loss: 1.3641 - accuracy: 0.5186 - val_loss: 1.5405 - val_accuracy: 0.4658\n",
            "Epoch 26/100000\n",
            "313/313 [==============================] - 1s 5ms/step - loss: 1.3574 - accuracy: 0.5260 - val_loss: 1.5433 - val_accuracy: 0.4673\n",
            "Epoch 27/100000\n",
            "313/313 [==============================] - 1s 5ms/step - loss: 1.3461 - accuracy: 0.5279 - val_loss: 1.5238 - val_accuracy: 0.4681\n",
            "Epoch 28/100000\n",
            "313/313 [==============================] - 2s 6ms/step - loss: 1.3398 - accuracy: 0.5251 - val_loss: 1.5320 - val_accuracy: 0.4695\n"
          ]
        }
      ]
    },
    {
      "cell_type": "markdown",
      "source": [
        "## 2.2 Exercise\n",
        "Change the [activation function of the dense layers (except the last one)](https://www.tensorflow.org/api_docs/python/tf/keras/layers/Dense) to rectified linear unit (ReLU) and the [weight initialization](https://www.tensorflow.org/api_docs/python/tf/keras/initializers) to the theoretically best one. Use the original model's code.\n",
        "\n",
        "Compile and train the model. Inspect the effects of the modifications."
      ],
      "metadata": {
        "id": "zQCDM1o1BBtF"
      }
    },
    {
      "cell_type": "code",
      "source": [
        "# model definition with relu - which has best weight initialization of HeNormal\n",
        "model = Sequential()\n",
        "model.add(Dense(128, activation='relu', kernel_initializer=\"HeNormal\", input_shape=(flattened_dim,)))\n",
        "model.add(Dense(128, activation='relu', kernel_initializer=\"HeNormal\"))\n",
        "model.add(Dense(nb_classes, activation='softmax'))\n",
        "\n",
        "# loss function and optimizer\n",
        "model.compile(loss='categorical_crossentropy', optimizer='adam', metrics=['accuracy'])"
      ],
      "metadata": {
        "id": "YjHAAh-wGu9O"
      },
      "execution_count": 91,
      "outputs": []
    },
    {
      "cell_type": "code",
      "source": [
        "# training\n",
        "network_history = model.fit(X_train, Y_train,\n",
        "                            validation_data=(X_valid,Y_valid),\n",
        "                            batch_size=128,\n",
        "                            epochs=40,\n",
        "                            verbose=1)"
      ],
      "metadata": {
        "id": "rarwKM1wGxMz",
        "colab": {
          "base_uri": "https://localhost:8080/"
        },
        "outputId": "c4f6c04c-c318-435b-d31e-52ee09e46cef"
      },
      "execution_count": 92,
      "outputs": [
        {
          "output_type": "stream",
          "name": "stdout",
          "text": [
            "Epoch 1/40\n",
            "313/313 [==============================] - 2s 5ms/step - loss: 1.8165 - accuracy: 0.3776 - val_loss: 1.6531 - val_accuracy: 0.4283\n",
            "Epoch 2/40\n",
            "313/313 [==============================] - 1s 4ms/step - loss: 1.5370 - accuracy: 0.4627 - val_loss: 1.5990 - val_accuracy: 0.4373\n",
            "Epoch 3/40\n",
            "313/313 [==============================] - 2s 5ms/step - loss: 1.4156 - accuracy: 0.5030 - val_loss: 1.5269 - val_accuracy: 0.4711\n",
            "Epoch 4/40\n",
            "313/313 [==============================] - 2s 5ms/step - loss: 1.3324 - accuracy: 0.5329 - val_loss: 1.5077 - val_accuracy: 0.4766\n",
            "Epoch 5/40\n",
            "313/313 [==============================] - 1s 4ms/step - loss: 1.2579 - accuracy: 0.5572 - val_loss: 1.5281 - val_accuracy: 0.4800\n",
            "Epoch 6/40\n",
            "313/313 [==============================] - 1s 4ms/step - loss: 1.2060 - accuracy: 0.5770 - val_loss: 1.5092 - val_accuracy: 0.4899\n",
            "Epoch 7/40\n",
            "313/313 [==============================] - 1s 4ms/step - loss: 1.1542 - accuracy: 0.5920 - val_loss: 1.5134 - val_accuracy: 0.4977\n",
            "Epoch 8/40\n",
            "313/313 [==============================] - 1s 4ms/step - loss: 1.1013 - accuracy: 0.6156 - val_loss: 1.5344 - val_accuracy: 0.4909\n",
            "Epoch 9/40\n",
            "313/313 [==============================] - 1s 4ms/step - loss: 1.0567 - accuracy: 0.6295 - val_loss: 1.5482 - val_accuracy: 0.4941\n",
            "Epoch 10/40\n",
            "313/313 [==============================] - 1s 4ms/step - loss: 1.0122 - accuracy: 0.6453 - val_loss: 1.5870 - val_accuracy: 0.4859\n",
            "Epoch 11/40\n",
            "313/313 [==============================] - 1s 4ms/step - loss: 0.9656 - accuracy: 0.6594 - val_loss: 1.6263 - val_accuracy: 0.4983\n",
            "Epoch 12/40\n",
            "313/313 [==============================] - 2s 6ms/step - loss: 0.9312 - accuracy: 0.6744 - val_loss: 1.6310 - val_accuracy: 0.4844\n",
            "Epoch 13/40\n",
            "313/313 [==============================] - 2s 5ms/step - loss: 0.8850 - accuracy: 0.6875 - val_loss: 1.6593 - val_accuracy: 0.4890\n",
            "Epoch 14/40\n",
            "313/313 [==============================] - 1s 4ms/step - loss: 0.8544 - accuracy: 0.6975 - val_loss: 1.6931 - val_accuracy: 0.4976\n",
            "Epoch 15/40\n",
            "313/313 [==============================] - 1s 4ms/step - loss: 0.8180 - accuracy: 0.7125 - val_loss: 1.7262 - val_accuracy: 0.4946\n",
            "Epoch 16/40\n",
            "313/313 [==============================] - 1s 4ms/step - loss: 0.7765 - accuracy: 0.7274 - val_loss: 1.7790 - val_accuracy: 0.4946\n",
            "Epoch 17/40\n",
            "313/313 [==============================] - 1s 4ms/step - loss: 0.7548 - accuracy: 0.7367 - val_loss: 1.8590 - val_accuracy: 0.4838\n",
            "Epoch 18/40\n",
            "313/313 [==============================] - 1s 4ms/step - loss: 0.7160 - accuracy: 0.7477 - val_loss: 1.8991 - val_accuracy: 0.4809\n",
            "Epoch 19/40\n",
            "313/313 [==============================] - 1s 4ms/step - loss: 0.6907 - accuracy: 0.7590 - val_loss: 1.9340 - val_accuracy: 0.4878\n",
            "Epoch 20/40\n",
            "313/313 [==============================] - 1s 5ms/step - loss: 0.6566 - accuracy: 0.7714 - val_loss: 2.0089 - val_accuracy: 0.4759\n",
            "Epoch 21/40\n",
            "313/313 [==============================] - 2s 6ms/step - loss: 0.6364 - accuracy: 0.7751 - val_loss: 2.0644 - val_accuracy: 0.4820\n",
            "Epoch 22/40\n",
            "313/313 [==============================] - 1s 4ms/step - loss: 0.6127 - accuracy: 0.7832 - val_loss: 2.1130 - val_accuracy: 0.4832\n",
            "Epoch 23/40\n",
            "313/313 [==============================] - 1s 4ms/step - loss: 0.5891 - accuracy: 0.7937 - val_loss: 2.1347 - val_accuracy: 0.4835\n",
            "Epoch 24/40\n",
            "313/313 [==============================] - 1s 4ms/step - loss: 0.5581 - accuracy: 0.8071 - val_loss: 2.2125 - val_accuracy: 0.4777\n",
            "Epoch 25/40\n",
            "313/313 [==============================] - 1s 4ms/step - loss: 0.5404 - accuracy: 0.8091 - val_loss: 2.2769 - val_accuracy: 0.4862\n",
            "Epoch 26/40\n",
            "313/313 [==============================] - 1s 4ms/step - loss: 0.5232 - accuracy: 0.8173 - val_loss: 2.2973 - val_accuracy: 0.4870\n",
            "Epoch 27/40\n",
            "313/313 [==============================] - 1s 4ms/step - loss: 0.4950 - accuracy: 0.8268 - val_loss: 2.3691 - val_accuracy: 0.4805\n",
            "Epoch 28/40\n",
            "313/313 [==============================] - 1s 5ms/step - loss: 0.4874 - accuracy: 0.8295 - val_loss: 2.4153 - val_accuracy: 0.4777\n",
            "Epoch 29/40\n",
            "313/313 [==============================] - 2s 6ms/step - loss: 0.4673 - accuracy: 0.8362 - val_loss: 2.4689 - val_accuracy: 0.4832\n",
            "Epoch 30/40\n",
            "313/313 [==============================] - 1s 5ms/step - loss: 0.4497 - accuracy: 0.8401 - val_loss: 2.5787 - val_accuracy: 0.4724\n",
            "Epoch 31/40\n",
            "313/313 [==============================] - 1s 4ms/step - loss: 0.4375 - accuracy: 0.8469 - val_loss: 2.6571 - val_accuracy: 0.4697\n",
            "Epoch 32/40\n",
            "313/313 [==============================] - 1s 4ms/step - loss: 0.4162 - accuracy: 0.8522 - val_loss: 2.6641 - val_accuracy: 0.4742\n",
            "Epoch 33/40\n",
            "313/313 [==============================] - 1s 4ms/step - loss: 0.3959 - accuracy: 0.8613 - val_loss: 2.7620 - val_accuracy: 0.4755\n",
            "Epoch 34/40\n",
            "313/313 [==============================] - 1s 4ms/step - loss: 0.4004 - accuracy: 0.8607 - val_loss: 2.7967 - val_accuracy: 0.4700\n",
            "Epoch 35/40\n",
            "313/313 [==============================] - 1s 4ms/step - loss: 0.3759 - accuracy: 0.8696 - val_loss: 2.9184 - val_accuracy: 0.4711\n",
            "Epoch 36/40\n",
            "313/313 [==============================] - 1s 4ms/step - loss: 0.3640 - accuracy: 0.8735 - val_loss: 2.9788 - val_accuracy: 0.4686\n",
            "Epoch 37/40\n",
            "313/313 [==============================] - 1s 4ms/step - loss: 0.3549 - accuracy: 0.8753 - val_loss: 3.0260 - val_accuracy: 0.4659\n",
            "Epoch 38/40\n",
            "313/313 [==============================] - 2s 5ms/step - loss: 0.3618 - accuracy: 0.8750 - val_loss: 3.1095 - val_accuracy: 0.4755\n",
            "Epoch 39/40\n",
            "313/313 [==============================] - 1s 5ms/step - loss: 0.3347 - accuracy: 0.8849 - val_loss: 3.1337 - val_accuracy: 0.4640\n",
            "Epoch 40/40\n",
            "313/313 [==============================] - 1s 4ms/step - loss: 0.3197 - accuracy: 0.8896 - val_loss: 3.1728 - val_accuracy: 0.4772\n"
          ]
        }
      ]
    },
    {
      "cell_type": "markdown",
      "source": [
        "# 2.3. Exercise\n",
        "Based on the modifications above, and by any further modifications (e.g. more layers, less layers, more neurons/layer, etc.) to the model design, find a combination that is able to achieve **validation accuracy, that is higher than 53%**.\n"
      ],
      "metadata": {
        "id": "j1tGVPdD-pp3"
      }
    },
    {
      "cell_type": "code",
      "source": [
        "es = EarlyStopping(\n",
        "    monitor='val_accuracy',\n",
        "    patience=15,\n",
        "    restore_best_weights=True,\n",
        ")"
      ],
      "metadata": {
        "id": "5dBQxJHIHrbd"
      },
      "execution_count": 93,
      "outputs": []
    },
    {
      "cell_type": "code",
      "source": [
        "# import more optimizers\n",
        "from tensorflow.keras.layers import BatchNormalization\n",
        "from keras.regularizers import l2\n",
        "\n",
        "# early stopping callback\n",
        "es = EarlyStopping(\n",
        "    monitor='val_loss',\n",
        "    patience=15,\n",
        "    restore_best_weights=True,\n",
        ")\n",
        "\n",
        "# model definition\n",
        "model = Sequential()\n",
        "model.add(Dense(512, activation='relu', kernel_initializer=\"HeNormal\", input_shape=(flattened_dim,)))\n",
        "model.add(BatchNormalization())\n",
        "model.add(Dropout(0.5))\n",
        "\n",
        "model.add(Dense(512, activation='relu', kernel_initializer=\"HeNormal\", kernel_regularizer=l2(0.001)))\n",
        "model.add(BatchNormalization())\n",
        "model.add(Dropout(0.5))\n",
        "\n",
        "model.add(Dense(128, activation='relu', kernel_initializer=\"HeNormal\", kernel_regularizer=l2(0.001)))\n",
        "model.add(BatchNormalization())\n",
        "model.add(Dropout(0.5))\n",
        "\n",
        "model.add(Dense(nb_classes, activation='softmax'))\n",
        "\n",
        "# Loss function and optimizer\n",
        "model.compile(loss='categorical_crossentropy', optimizer='adam', metrics=['accuracy'])\n",
        "\n",
        "# Training\n",
        "network_history = model.fit(X_train, Y_train,\n",
        "                            validation_data=(X_valid, Y_valid),\n",
        "                            batch_size=128,\n",
        "                            epochs=10000,\n",
        "                            verbose=1,\n",
        "                            callbacks=[es])"
      ],
      "metadata": {
        "id": "PuxHOqLt-3Nd",
        "colab": {
          "base_uri": "https://localhost:8080/"
        },
        "outputId": "06321be9-2c86-43d1-cb00-5d5cbc3147f2"
      },
      "execution_count": 94,
      "outputs": [
        {
          "output_type": "stream",
          "name": "stdout",
          "text": [
            "Epoch 1/10000\n",
            "313/313 [==============================] - 5s 8ms/step - loss: 3.4620 - accuracy: 0.2603 - val_loss: 2.7565 - val_accuracy: 0.3911\n",
            "Epoch 2/10000\n",
            "313/313 [==============================] - 2s 7ms/step - loss: 2.6978 - accuracy: 0.3530 - val_loss: 2.3554 - val_accuracy: 0.4326\n",
            "Epoch 3/10000\n",
            "313/313 [==============================] - 3s 9ms/step - loss: 2.2946 - accuracy: 0.4001 - val_loss: 2.0462 - val_accuracy: 0.4526\n",
            "Epoch 4/10000\n",
            "313/313 [==============================] - 2s 7ms/step - loss: 2.0286 - accuracy: 0.4303 - val_loss: 1.8431 - val_accuracy: 0.4697\n",
            "Epoch 5/10000\n",
            "313/313 [==============================] - 2s 7ms/step - loss: 1.8638 - accuracy: 0.4434 - val_loss: 1.7242 - val_accuracy: 0.4724\n",
            "Epoch 6/10000\n",
            "313/313 [==============================] - 2s 7ms/step - loss: 1.7558 - accuracy: 0.4603 - val_loss: 1.6527 - val_accuracy: 0.4867\n",
            "Epoch 7/10000\n",
            "313/313 [==============================] - 2s 7ms/step - loss: 1.6942 - accuracy: 0.4685 - val_loss: 1.6006 - val_accuracy: 0.4920\n",
            "Epoch 8/10000\n",
            "313/313 [==============================] - 3s 9ms/step - loss: 1.6496 - accuracy: 0.4782 - val_loss: 1.5690 - val_accuracy: 0.5020\n",
            "Epoch 9/10000\n",
            "313/313 [==============================] - 2s 7ms/step - loss: 1.6233 - accuracy: 0.4789 - val_loss: 1.5515 - val_accuracy: 0.5000\n",
            "Epoch 10/10000\n",
            "313/313 [==============================] - 2s 7ms/step - loss: 1.6033 - accuracy: 0.4865 - val_loss: 1.5412 - val_accuracy: 0.5086\n",
            "Epoch 11/10000\n",
            "313/313 [==============================] - 2s 7ms/step - loss: 1.5814 - accuracy: 0.4954 - val_loss: 1.5199 - val_accuracy: 0.5157\n",
            "Epoch 12/10000\n",
            "313/313 [==============================] - 2s 7ms/step - loss: 1.5652 - accuracy: 0.5041 - val_loss: 1.5143 - val_accuracy: 0.5213\n",
            "Epoch 13/10000\n",
            "313/313 [==============================] - 3s 8ms/step - loss: 1.5619 - accuracy: 0.5013 - val_loss: 1.5098 - val_accuracy: 0.5235\n",
            "Epoch 14/10000\n",
            "313/313 [==============================] - 2s 8ms/step - loss: 1.5557 - accuracy: 0.5048 - val_loss: 1.4953 - val_accuracy: 0.5298\n",
            "Epoch 15/10000\n",
            "313/313 [==============================] - 2s 7ms/step - loss: 1.5447 - accuracy: 0.5106 - val_loss: 1.5050 - val_accuracy: 0.5221\n",
            "Epoch 16/10000\n",
            "313/313 [==============================] - 2s 7ms/step - loss: 1.5336 - accuracy: 0.5143 - val_loss: 1.4946 - val_accuracy: 0.5303\n",
            "Epoch 17/10000\n",
            "313/313 [==============================] - 2s 7ms/step - loss: 1.5217 - accuracy: 0.5216 - val_loss: 1.4929 - val_accuracy: 0.5309\n",
            "Epoch 18/10000\n",
            "313/313 [==============================] - 2s 7ms/step - loss: 1.5137 - accuracy: 0.5243 - val_loss: 1.4903 - val_accuracy: 0.5290\n",
            "Epoch 19/10000\n",
            "313/313 [==============================] - 3s 9ms/step - loss: 1.5032 - accuracy: 0.5269 - val_loss: 1.4860 - val_accuracy: 0.5343\n",
            "Epoch 20/10000\n",
            "313/313 [==============================] - 2s 7ms/step - loss: 1.5004 - accuracy: 0.5305 - val_loss: 1.4751 - val_accuracy: 0.5396\n",
            "Epoch 21/10000\n",
            "313/313 [==============================] - 2s 7ms/step - loss: 1.4911 - accuracy: 0.5359 - val_loss: 1.4882 - val_accuracy: 0.5351\n",
            "Epoch 22/10000\n",
            "313/313 [==============================] - 2s 7ms/step - loss: 1.4818 - accuracy: 0.5376 - val_loss: 1.4791 - val_accuracy: 0.5375\n",
            "Epoch 23/10000\n",
            "313/313 [==============================] - 2s 7ms/step - loss: 1.4765 - accuracy: 0.5393 - val_loss: 1.4747 - val_accuracy: 0.5388\n",
            "Epoch 24/10000\n",
            "313/313 [==============================] - 3s 9ms/step - loss: 1.4688 - accuracy: 0.5433 - val_loss: 1.4695 - val_accuracy: 0.5455\n",
            "Epoch 25/10000\n",
            "313/313 [==============================] - 2s 7ms/step - loss: 1.4626 - accuracy: 0.5458 - val_loss: 1.4725 - val_accuracy: 0.5418\n",
            "Epoch 26/10000\n",
            "313/313 [==============================] - 2s 7ms/step - loss: 1.4561 - accuracy: 0.5515 - val_loss: 1.4858 - val_accuracy: 0.5391\n",
            "Epoch 27/10000\n",
            "313/313 [==============================] - 2s 7ms/step - loss: 1.4524 - accuracy: 0.5519 - val_loss: 1.4622 - val_accuracy: 0.5505\n",
            "Epoch 28/10000\n",
            "313/313 [==============================] - 2s 7ms/step - loss: 1.4444 - accuracy: 0.5544 - val_loss: 1.4680 - val_accuracy: 0.5478\n",
            "Epoch 29/10000\n",
            "313/313 [==============================] - 3s 8ms/step - loss: 1.4399 - accuracy: 0.5585 - val_loss: 1.4720 - val_accuracy: 0.5422\n",
            "Epoch 30/10000\n",
            "313/313 [==============================] - 2s 7ms/step - loss: 1.4300 - accuracy: 0.5592 - val_loss: 1.4629 - val_accuracy: 0.5504\n",
            "Epoch 31/10000\n",
            "313/313 [==============================] - 2s 7ms/step - loss: 1.4235 - accuracy: 0.5640 - val_loss: 1.4557 - val_accuracy: 0.5521\n",
            "Epoch 32/10000\n",
            "313/313 [==============================] - 2s 7ms/step - loss: 1.4196 - accuracy: 0.5673 - val_loss: 1.4484 - val_accuracy: 0.5546\n",
            "Epoch 33/10000\n",
            "313/313 [==============================] - 2s 7ms/step - loss: 1.4224 - accuracy: 0.5669 - val_loss: 1.4528 - val_accuracy: 0.5540\n",
            "Epoch 34/10000\n",
            "313/313 [==============================] - 2s 7ms/step - loss: 1.3987 - accuracy: 0.5712 - val_loss: 1.4586 - val_accuracy: 0.5547\n",
            "Epoch 35/10000\n",
            "313/313 [==============================] - 3s 9ms/step - loss: 1.4028 - accuracy: 0.5734 - val_loss: 1.4548 - val_accuracy: 0.5532\n",
            "Epoch 36/10000\n",
            "313/313 [==============================] - 2s 7ms/step - loss: 1.3989 - accuracy: 0.5752 - val_loss: 1.4824 - val_accuracy: 0.5477\n",
            "Epoch 37/10000\n",
            "313/313 [==============================] - 2s 7ms/step - loss: 1.3897 - accuracy: 0.5779 - val_loss: 1.4640 - val_accuracy: 0.5542\n",
            "Epoch 38/10000\n",
            "313/313 [==============================] - 2s 7ms/step - loss: 1.3801 - accuracy: 0.5805 - val_loss: 1.4447 - val_accuracy: 0.5618\n",
            "Epoch 39/10000\n",
            "313/313 [==============================] - 2s 7ms/step - loss: 1.3769 - accuracy: 0.5847 - val_loss: 1.4641 - val_accuracy: 0.5496\n",
            "Epoch 40/10000\n",
            "313/313 [==============================] - 3s 9ms/step - loss: 1.3729 - accuracy: 0.5866 - val_loss: 1.4660 - val_accuracy: 0.5583\n",
            "Epoch 41/10000\n",
            "313/313 [==============================] - 2s 7ms/step - loss: 1.3665 - accuracy: 0.5870 - val_loss: 1.4729 - val_accuracy: 0.5459\n",
            "Epoch 42/10000\n",
            "313/313 [==============================] - 2s 7ms/step - loss: 1.3585 - accuracy: 0.5916 - val_loss: 1.4672 - val_accuracy: 0.5552\n",
            "Epoch 43/10000\n",
            "313/313 [==============================] - 2s 7ms/step - loss: 1.3606 - accuracy: 0.5901 - val_loss: 1.4531 - val_accuracy: 0.5592\n",
            "Epoch 44/10000\n",
            "313/313 [==============================] - 2s 7ms/step - loss: 1.3529 - accuracy: 0.5976 - val_loss: 1.4525 - val_accuracy: 0.5562\n",
            "Epoch 45/10000\n",
            "313/313 [==============================] - 2s 8ms/step - loss: 1.3500 - accuracy: 0.5962 - val_loss: 1.4469 - val_accuracy: 0.5627\n",
            "Epoch 46/10000\n",
            "313/313 [==============================] - 2s 7ms/step - loss: 1.3370 - accuracy: 0.5998 - val_loss: 1.4609 - val_accuracy: 0.5549\n",
            "Epoch 47/10000\n",
            "313/313 [==============================] - 2s 7ms/step - loss: 1.3362 - accuracy: 0.5990 - val_loss: 1.4643 - val_accuracy: 0.5539\n",
            "Epoch 48/10000\n",
            "313/313 [==============================] - 2s 7ms/step - loss: 1.3316 - accuracy: 0.6013 - val_loss: 1.4497 - val_accuracy: 0.5601\n",
            "Epoch 49/10000\n",
            "313/313 [==============================] - 2s 7ms/step - loss: 1.3294 - accuracy: 0.6055 - val_loss: 1.4665 - val_accuracy: 0.5569\n",
            "Epoch 50/10000\n",
            "313/313 [==============================] - 2s 7ms/step - loss: 1.3270 - accuracy: 0.6048 - val_loss: 1.4493 - val_accuracy: 0.5640\n",
            "Epoch 51/10000\n",
            "313/313 [==============================] - 3s 8ms/step - loss: 1.3101 - accuracy: 0.6109 - val_loss: 1.4573 - val_accuracy: 0.5550\n",
            "Epoch 52/10000\n",
            "313/313 [==============================] - 2s 7ms/step - loss: 1.3148 - accuracy: 0.6089 - val_loss: 1.4569 - val_accuracy: 0.5592\n",
            "Epoch 53/10000\n",
            "313/313 [==============================] - 2s 7ms/step - loss: 1.3099 - accuracy: 0.6129 - val_loss: 1.4751 - val_accuracy: 0.5553\n"
          ]
        }
      ]
    },
    {
      "cell_type": "markdown",
      "source": [
        "# 3. Evaluation on test data and inference\n",
        "At this point, we will perform a basic evaluation and inference. With the model.evaluate function, the same metrics are calculated, that were used during training:"
      ],
      "metadata": {
        "id": "2FtKp-a2-A9m"
      }
    },
    {
      "cell_type": "code",
      "source": [
        "print(model.evaluate(X_test, Y_test))"
      ],
      "metadata": {
        "id": "I3_9wgDREUna",
        "colab": {
          "base_uri": "https://localhost:8080/"
        },
        "outputId": "0373a64f-2a98-4bf7-aab4-e376449b0344"
      },
      "execution_count": 95,
      "outputs": [
        {
          "output_type": "stream",
          "name": "stdout",
          "text": [
            "313/313 [==============================] - 1s 3ms/step - loss: 1.4403 - accuracy: 0.5558\n",
            "[1.4403027296066284, 0.5558000206947327]\n"
          ]
        }
      ]
    },
    {
      "cell_type": "markdown",
      "source": [
        "we would like to see similar values, as in the validation set. If those are close to each other, then the generalization ability of the model is good (in case of an independent test-set)."
      ],
      "metadata": {
        "id": "ECHguBFtGL7f"
      }
    },
    {
      "cell_type": "markdown",
      "source": [
        "## 3.1. Exercise\n",
        "Predict the class of the first 10 elements in the test set, and compare the predicted values with the actual, target values in the test set. Hints:\n",
        "* you can use [model.predict](https://www.activestate.com/resources/quick-reads/how-to-use-a-model-to-do-predictions-with-keras/) for prediction\n",
        "* from the output you can select the largest value with the [argmax() function of Numpy](https://stackoverflow.com/questions/62358642/convert-one-hot-encoding-back-to-number-label). As there are multiple values, you have to call it with axis=1 parameter.\n",
        "* it is enought to compare the predictions and the targets by printing the values out and inspecting them."
      ],
      "metadata": {
        "id": "0Io4zYJeHjz6"
      }
    },
    {
      "cell_type": "code",
      "source": [
        "preds = model.predict(X_test[:10])\n",
        "preds_dense = np.argmax(preds, axis = 1)"
      ],
      "metadata": {
        "id": "XEEyU7exILqF",
        "colab": {
          "base_uri": "https://localhost:8080/"
        },
        "outputId": "d4e4c857-5f4b-4b98-e3c1-120b9d069441"
      },
      "execution_count": 96,
      "outputs": [
        {
          "output_type": "stream",
          "name": "stdout",
          "text": [
            "1/1 [==============================] - 0s 131ms/step\n"
          ]
        }
      ]
    },
    {
      "cell_type": "markdown",
      "source": [
        "Before comparision, you have to convert back the one-hot encoded target values the same way, as you converted the output of the neural network to class values with argmax() function."
      ],
      "metadata": {
        "id": "seZTEFI-I5cZ"
      }
    },
    {
      "cell_type": "code",
      "source": [
        "print(\"Target labels:\", np.argmax(Y_test[:10],axis=1))\n",
        "print(\"Predicted labels:\", preds_dense)"
      ],
      "metadata": {
        "id": "PHLvoMuIIkJ6",
        "colab": {
          "base_uri": "https://localhost:8080/"
        },
        "outputId": "8daec1a9-1c64-4456-870b-30113212180d"
      },
      "execution_count": 97,
      "outputs": [
        {
          "output_type": "stream",
          "name": "stdout",
          "text": [
            "Target labels: [3 8 8 0 6 6 1 6 3 1]\n",
            "Predicted labels: [3 9 0 8 4 6 1 6 3 1]\n"
          ]
        }
      ]
    }
  ]
}